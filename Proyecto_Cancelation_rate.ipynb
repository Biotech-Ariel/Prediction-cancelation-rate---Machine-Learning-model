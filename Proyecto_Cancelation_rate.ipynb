{
 "cells": [
  {
   "cell_type": "markdown",
   "metadata": {},
   "source": [
    "---"
   ]
  },
  {
   "cell_type": "markdown",
   "metadata": {},
   "source": [
    "## Proyecto Final - Creación de un modelo de ML para la predicción de fuga de clientes."
   ]
  },
  {
   "cell_type": "markdown",
   "metadata": {},
   "source": [
    "## Contextualización general del proyecto."
   ]
  },
  {
   "cell_type": "markdown",
   "metadata": {},
   "source": [
    "A manera de contextualización tenemos los siguiente:\n",
    "\n",
    "Al operador de telecomunicaciones Interconnect le gustaría poder pronosticar su tasa de cancelación de clientes. Si se descubre que un usuario o usuaria planea irse, se le ofrecerán códigos promocionales y opciones de planes especiales. El equipo de marketing de Interconnect ha recopilado algunos de los datos personales de sus clientes, incluyendo información sobre sus planes y contratos.\n",
    "\n",
    "Adicional a lo anterior, también nos hacen conocimiento de los servicios principales y secundarios que el operador ofrece a sus clientes o potenciales clientes, los cuales son los siguientes:\n",
    "\n",
    "_Servicios principales._\n",
    "\n",
    "1. _Comunicación por teléfono fijo._ El teléfono se puede conectar a varias líneas de manera simultánea.\n",
    "2. _Internet._ La red se puede configurar a través de una línea telefónica (DSL, *línea de abonado digital*) o a través de un cable de fibra óptica.\n",
    "\n",
    "_Servicios secundarios_\n",
    "\n",
    "1. Seguridad en Internet: software antivirus (*ProtecciónDeDispositivo*) y un bloqueador de sitios web maliciosos (*SeguridadEnLínea*).\n",
    "2. Una línea de soporte técnico (*SoporteTécnico*).\n",
    "3. Almacenamiento de archivos en la nube y backup de datos (*BackupOnline*).\n",
    "4. Streaming de TV (*StreamingTV*) y directorio de películas (*StreamingPelículas*)\n",
    "\n",
    "\n",
    "**Tal y como hemos mencionado anteriormente, explorarémos algunos modelos de ML que puedan ayudarnos a cumplir con la tarea encomendada a partir de las métricas que a continuación comentaremos**:\n",
    "\n",
    "- Las métricas *ROC - AUC* y *exactitud* (accuracy), serán las métricas importantes para poder evaluar y comparar nuestros modelos de ML, de antemano se conoce que por estas métricas nuestros modelos estarán acotados por modelos de clasificación, por lo tanto, veremos cómo la versatilidad que los modelos propuestos puedan ayudarnos a lograr nuestro objetivo principal, el de predecir si un cliente cancela o no el servicio."
   ]
  },
  {
   "cell_type": "markdown",
   "metadata": {},
   "source": [
    "## Plan de Trabajo o Flujo de trabajo "
   ]
  },
  {
   "cell_type": "markdown",
   "metadata": {},
   "source": [
    "El flujo de trabajo propuesto es el siguiente:\n",
    "\n",
    "1. Vista previa de los datos, preprocesamiento de datos.\n",
    "\n",
    "2. EDA, análisis exploratorio de datos, verificar la información de nuestros datasets, buscar correlaciones entre columnas, verificar tipos de datos correctos en cada columna y enriquecimiento de datos (si se requiere).\n",
    "\n",
    "3. Propuesta y creación de modelos de ML.\n",
    "- Se revisarán los modelos de clasificación que puedan brindarnos mejores insights en cuanto a métricas objetivo se refiere.\n",
    "\n",
    "4. Entrenamiento y evaluación de modelos.\n",
    "- Es posible que en este paso revisaremos qué hiperparámetros podemos cambar y/o optimizar para mejorar, si es el caso, de las métricas objetivo.\n",
    "\n",
    "5. Comparación respectiva de los modelos.\n",
    "- Haremos una comparación entre los modelos creados y propuestos respecto a las métricas _ROC - AUC_ y _accuracy_ y elegir el mejor modelo entre los mismos. Crearemos un tabla comparativa a manera de resumen.\n",
    "\n",
    "\n",
    "Conociendo y sabiendo lo anterior, procedemos a empezar el proyecto."
   ]
  },
  {
   "cell_type": "markdown",
   "metadata": {},
   "source": [
    "## 1. Vista previa de datos. Preprocesamiento de datos."
   ]
  },
  {
   "cell_type": "markdown",
   "metadata": {},
   "source": [
    "### Carga de librerías"
   ]
  },
  {
   "cell_type": "code",
   "execution_count": 1,
   "metadata": {},
   "outputs": [],
   "source": [
    "#Librerías básicas para la visualización de datos\n",
    "import pandas as pd\n",
    "import numpy as np\n",
    "import matplotlib.pyplot as plt\n",
    "import seaborn as sns\n",
    "\n",
    "#Modelos de ML de clasificación y métricas\n",
    "from sklearn.model_selection import train_test_split, GridSearchCV\n",
    "from sklearn.linear_model import LogisticRegression\n",
    "from sklearn.ensemble import RandomForestClassifier\n",
    "from sklearn.tree import DecisionTreeClassifier\n",
    "from sklearn.metrics import accuracy_score, roc_curve, roc_auc_score, classification_report\n",
    "#Normalización de datos\n",
    "from sklearn.preprocessing import MinMaxScaler, StandardScaler\n",
    "\n",
    "#Potenciación de gradiente\n",
    "from catboost import CatBoostClassifier, Pool"
   ]
  },
  {
   "cell_type": "markdown",
   "metadata": {},
   "source": [
    "### 1.1 Carga de datasets para visualización"
   ]
  },
  {
   "cell_type": "markdown",
   "metadata": {},
   "source": [
    "Contamos con un total de _4 datasets_ que se se tienen, esta información fue proporcionada por el cliente.\n",
    "\n",
    "Los datos consisten en archivos obtenidos de diferentes fuentes:\n",
    "\n",
    "- `contract.csv` — información del contrato;\n",
    "- `personal.csv` — datos personales del cliente;\n",
    "- `internet.csv` — información sobre los servicios de Internet;\n",
    "- `phone.csv` — información sobre los servicios telefónicos."
   ]
  },
  {
   "cell_type": "code",
   "execution_count": 2,
   "metadata": {},
   "outputs": [],
   "source": [
    "#Carga de datasets \n",
    "contrato = pd.read_csv(r'D:\\Escritorio\\TRIPLETEN\\Sprint 16 - Visión Artificial\\final_provider\\contract.csv')\n",
    "personal = pd.read_csv(r'D:\\Escritorio\\TRIPLETEN\\Sprint 16 - Visión Artificial\\final_provider\\personal.csv')\n",
    "internet = pd.read_csv(r'D:\\Escritorio\\TRIPLETEN\\Sprint 16 - Visión Artificial\\final_provider\\internet.csv')\n",
    "telefono = pd.read_csv(r'D:\\Escritorio\\TRIPLETEN\\Sprint 16 - Visión Artificial\\final_provider\\phone.csv')"
   ]
  },
  {
   "cell_type": "code",
   "execution_count": 3,
   "metadata": {},
   "outputs": [
    {
     "name": "stdout",
     "output_type": "stream",
     "text": [
      "<class 'pandas.core.frame.DataFrame'>\n",
      "RangeIndex: 7043 entries, 0 to 7042\n",
      "Data columns (total 8 columns):\n",
      " #   Column            Non-Null Count  Dtype  \n",
      "---  ------            --------------  -----  \n",
      " 0   customerID        7043 non-null   object \n",
      " 1   BeginDate         7043 non-null   object \n",
      " 2   EndDate           7043 non-null   object \n",
      " 3   Type              7043 non-null   object \n",
      " 4   PaperlessBilling  7043 non-null   object \n",
      " 5   PaymentMethod     7043 non-null   object \n",
      " 6   MonthlyCharges    7043 non-null   float64\n",
      " 7   TotalCharges      7043 non-null   object \n",
      "dtypes: float64(1), object(7)\n",
      "memory usage: 440.3+ KB\n",
      "None\n",
      "\n",
      "\n",
      "<class 'pandas.core.frame.DataFrame'>\n",
      "RangeIndex: 7043 entries, 0 to 7042\n",
      "Data columns (total 5 columns):\n",
      " #   Column         Non-Null Count  Dtype \n",
      "---  ------         --------------  ----- \n",
      " 0   customerID     7043 non-null   object\n",
      " 1   gender         7043 non-null   object\n",
      " 2   SeniorCitizen  7043 non-null   int64 \n",
      " 3   Partner        7043 non-null   object\n",
      " 4   Dependents     7043 non-null   object\n",
      "dtypes: int64(1), object(4)\n",
      "memory usage: 275.2+ KB\n",
      "None\n",
      "\n",
      "\n",
      "<class 'pandas.core.frame.DataFrame'>\n",
      "RangeIndex: 5517 entries, 0 to 5516\n",
      "Data columns (total 8 columns):\n",
      " #   Column            Non-Null Count  Dtype \n",
      "---  ------            --------------  ----- \n",
      " 0   customerID        5517 non-null   object\n",
      " 1   InternetService   5517 non-null   object\n",
      " 2   OnlineSecurity    5517 non-null   object\n",
      " 3   OnlineBackup      5517 non-null   object\n",
      " 4   DeviceProtection  5517 non-null   object\n",
      " 5   TechSupport       5517 non-null   object\n",
      " 6   StreamingTV       5517 non-null   object\n",
      " 7   StreamingMovies   5517 non-null   object\n",
      "dtypes: object(8)\n",
      "memory usage: 344.9+ KB\n",
      "None\n",
      "\n",
      "\n",
      "<class 'pandas.core.frame.DataFrame'>\n",
      "RangeIndex: 6361 entries, 0 to 6360\n",
      "Data columns (total 2 columns):\n",
      " #   Column         Non-Null Count  Dtype \n",
      "---  ------         --------------  ----- \n",
      " 0   customerID     6361 non-null   object\n",
      " 1   MultipleLines  6361 non-null   object\n",
      "dtypes: object(2)\n",
      "memory usage: 99.5+ KB\n",
      "None\n",
      "\n",
      "\n"
     ]
    }
   ],
   "source": [
    "#Visualicemos la información general de cada dataset\n",
    "for i in ([contrato, personal, internet, telefono]):\n",
    "    print(i.info())\n",
    "    print('\\n')"
   ]
  },
  {
   "cell_type": "markdown",
   "metadata": {},
   "source": [
    "Primeras impresiones de los datasets:\n",
    "\n",
    "- Tanto el dataset ``contrato`` como ``personal``, tienen el mismo número de filas.\n",
    "- Por otro lado, los datasets ``internet`` y ``telefono`` no son homogéneos en el sentido de las filas, lo mismo para las columnas.\n",
    "\n",
    "De momento, de acuerdo con la información general, no contamos con _valores nulos_ en ninguno de nuestros datasets. Podemos apreciar también que existe un común denominador de todos los datasets el cual es tener la columna ``customerID`` el cual consiste en ser un identificador para cada cliente de la compañía. Esta columna puede ser un punto de partida al momento de querer fusionar nuestros datasets (_merge_). \n",
    "\n",
    "Sin embargo, antes de proceder a cualquier tipo de cambio o movimiento pertinente, me gustaría poder visualizar los datasets y verificar el tipo de de datos de cada columna en cada dataset, para que tengamos la distintión entre columnas _categóricas_ y columnas _numéricas_."
   ]
  },
  {
   "cell_type": "markdown",
   "metadata": {},
   "source": [
    "### 1.2 Visualización tabular de los datos"
   ]
  },
  {
   "cell_type": "code",
   "execution_count": 4,
   "metadata": {},
   "outputs": [
    {
     "data": {
      "application/vnd.microsoft.datawrangler.viewer.v0+json": {
       "columns": [
        {
         "name": "index",
         "rawType": "int64",
         "type": "integer"
        },
        {
         "name": "customerID",
         "rawType": "object",
         "type": "string"
        },
        {
         "name": "BeginDate",
         "rawType": "object",
         "type": "string"
        },
        {
         "name": "EndDate",
         "rawType": "object",
         "type": "string"
        },
        {
         "name": "Type",
         "rawType": "object",
         "type": "string"
        },
        {
         "name": "PaperlessBilling",
         "rawType": "object",
         "type": "string"
        },
        {
         "name": "PaymentMethod",
         "rawType": "object",
         "type": "string"
        },
        {
         "name": "MonthlyCharges",
         "rawType": "float64",
         "type": "float"
        },
        {
         "name": "TotalCharges",
         "rawType": "object",
         "type": "string"
        }
       ],
       "conversionMethod": "pd.DataFrame",
       "ref": "9cbe1951-9407-4b7e-8660-0db321fb5a96",
       "rows": [
        [
         "0",
         "7590-VHVEG",
         "2020-01-01",
         "No",
         "Month-to-month",
         "Yes",
         "Electronic check",
         "29.85",
         "29.85"
        ],
        [
         "1",
         "5575-GNVDE",
         "2017-04-01",
         "No",
         "One year",
         "No",
         "Mailed check",
         "56.95",
         "1889.5"
        ],
        [
         "2",
         "3668-QPYBK",
         "2019-10-01",
         "2019-12-01 00:00:00",
         "Month-to-month",
         "Yes",
         "Mailed check",
         "53.85",
         "108.15"
        ],
        [
         "3",
         "7795-CFOCW",
         "2016-05-01",
         "No",
         "One year",
         "No",
         "Bank transfer (automatic)",
         "42.3",
         "1840.75"
        ],
        [
         "4",
         "9237-HQITU",
         "2019-09-01",
         "2019-11-01 00:00:00",
         "Month-to-month",
         "Yes",
         "Electronic check",
         "70.7",
         "151.65"
        ],
        [
         "5",
         "9305-CDSKC",
         "2019-03-01",
         "2019-11-01 00:00:00",
         "Month-to-month",
         "Yes",
         "Electronic check",
         "99.65",
         "820.5"
        ],
        [
         "6",
         "1452-KIOVK",
         "2018-04-01",
         "No",
         "Month-to-month",
         "Yes",
         "Credit card (automatic)",
         "89.1",
         "1949.4"
        ],
        [
         "7",
         "6713-OKOMC",
         "2019-04-01",
         "No",
         "Month-to-month",
         "No",
         "Mailed check",
         "29.75",
         "301.9"
        ],
        [
         "8",
         "7892-POOKP",
         "2017-07-01",
         "2019-11-01 00:00:00",
         "Month-to-month",
         "Yes",
         "Electronic check",
         "104.8",
         "3046.05"
        ],
        [
         "9",
         "6388-TABGU",
         "2014-12-01",
         "No",
         "One year",
         "No",
         "Bank transfer (automatic)",
         "56.15",
         "3487.95"
        ]
       ],
       "shape": {
        "columns": 8,
        "rows": 10
       }
      },
      "text/html": [
       "<div>\n",
       "<style scoped>\n",
       "    .dataframe tbody tr th:only-of-type {\n",
       "        vertical-align: middle;\n",
       "    }\n",
       "\n",
       "    .dataframe tbody tr th {\n",
       "        vertical-align: top;\n",
       "    }\n",
       "\n",
       "    .dataframe thead th {\n",
       "        text-align: right;\n",
       "    }\n",
       "</style>\n",
       "<table border=\"1\" class=\"dataframe\">\n",
       "  <thead>\n",
       "    <tr style=\"text-align: right;\">\n",
       "      <th></th>\n",
       "      <th>customerID</th>\n",
       "      <th>BeginDate</th>\n",
       "      <th>EndDate</th>\n",
       "      <th>Type</th>\n",
       "      <th>PaperlessBilling</th>\n",
       "      <th>PaymentMethod</th>\n",
       "      <th>MonthlyCharges</th>\n",
       "      <th>TotalCharges</th>\n",
       "    </tr>\n",
       "  </thead>\n",
       "  <tbody>\n",
       "    <tr>\n",
       "      <th>0</th>\n",
       "      <td>7590-VHVEG</td>\n",
       "      <td>2020-01-01</td>\n",
       "      <td>No</td>\n",
       "      <td>Month-to-month</td>\n",
       "      <td>Yes</td>\n",
       "      <td>Electronic check</td>\n",
       "      <td>29.85</td>\n",
       "      <td>29.85</td>\n",
       "    </tr>\n",
       "    <tr>\n",
       "      <th>1</th>\n",
       "      <td>5575-GNVDE</td>\n",
       "      <td>2017-04-01</td>\n",
       "      <td>No</td>\n",
       "      <td>One year</td>\n",
       "      <td>No</td>\n",
       "      <td>Mailed check</td>\n",
       "      <td>56.95</td>\n",
       "      <td>1889.5</td>\n",
       "    </tr>\n",
       "    <tr>\n",
       "      <th>2</th>\n",
       "      <td>3668-QPYBK</td>\n",
       "      <td>2019-10-01</td>\n",
       "      <td>2019-12-01 00:00:00</td>\n",
       "      <td>Month-to-month</td>\n",
       "      <td>Yes</td>\n",
       "      <td>Mailed check</td>\n",
       "      <td>53.85</td>\n",
       "      <td>108.15</td>\n",
       "    </tr>\n",
       "    <tr>\n",
       "      <th>3</th>\n",
       "      <td>7795-CFOCW</td>\n",
       "      <td>2016-05-01</td>\n",
       "      <td>No</td>\n",
       "      <td>One year</td>\n",
       "      <td>No</td>\n",
       "      <td>Bank transfer (automatic)</td>\n",
       "      <td>42.30</td>\n",
       "      <td>1840.75</td>\n",
       "    </tr>\n",
       "    <tr>\n",
       "      <th>4</th>\n",
       "      <td>9237-HQITU</td>\n",
       "      <td>2019-09-01</td>\n",
       "      <td>2019-11-01 00:00:00</td>\n",
       "      <td>Month-to-month</td>\n",
       "      <td>Yes</td>\n",
       "      <td>Electronic check</td>\n",
       "      <td>70.70</td>\n",
       "      <td>151.65</td>\n",
       "    </tr>\n",
       "    <tr>\n",
       "      <th>5</th>\n",
       "      <td>9305-CDSKC</td>\n",
       "      <td>2019-03-01</td>\n",
       "      <td>2019-11-01 00:00:00</td>\n",
       "      <td>Month-to-month</td>\n",
       "      <td>Yes</td>\n",
       "      <td>Electronic check</td>\n",
       "      <td>99.65</td>\n",
       "      <td>820.5</td>\n",
       "    </tr>\n",
       "    <tr>\n",
       "      <th>6</th>\n",
       "      <td>1452-KIOVK</td>\n",
       "      <td>2018-04-01</td>\n",
       "      <td>No</td>\n",
       "      <td>Month-to-month</td>\n",
       "      <td>Yes</td>\n",
       "      <td>Credit card (automatic)</td>\n",
       "      <td>89.10</td>\n",
       "      <td>1949.4</td>\n",
       "    </tr>\n",
       "    <tr>\n",
       "      <th>7</th>\n",
       "      <td>6713-OKOMC</td>\n",
       "      <td>2019-04-01</td>\n",
       "      <td>No</td>\n",
       "      <td>Month-to-month</td>\n",
       "      <td>No</td>\n",
       "      <td>Mailed check</td>\n",
       "      <td>29.75</td>\n",
       "      <td>301.9</td>\n",
       "    </tr>\n",
       "    <tr>\n",
       "      <th>8</th>\n",
       "      <td>7892-POOKP</td>\n",
       "      <td>2017-07-01</td>\n",
       "      <td>2019-11-01 00:00:00</td>\n",
       "      <td>Month-to-month</td>\n",
       "      <td>Yes</td>\n",
       "      <td>Electronic check</td>\n",
       "      <td>104.80</td>\n",
       "      <td>3046.05</td>\n",
       "    </tr>\n",
       "    <tr>\n",
       "      <th>9</th>\n",
       "      <td>6388-TABGU</td>\n",
       "      <td>2014-12-01</td>\n",
       "      <td>No</td>\n",
       "      <td>One year</td>\n",
       "      <td>No</td>\n",
       "      <td>Bank transfer (automatic)</td>\n",
       "      <td>56.15</td>\n",
       "      <td>3487.95</td>\n",
       "    </tr>\n",
       "  </tbody>\n",
       "</table>\n",
       "</div>"
      ],
      "text/plain": [
       "   customerID   BeginDate              EndDate            Type  \\\n",
       "0  7590-VHVEG  2020-01-01                   No  Month-to-month   \n",
       "1  5575-GNVDE  2017-04-01                   No        One year   \n",
       "2  3668-QPYBK  2019-10-01  2019-12-01 00:00:00  Month-to-month   \n",
       "3  7795-CFOCW  2016-05-01                   No        One year   \n",
       "4  9237-HQITU  2019-09-01  2019-11-01 00:00:00  Month-to-month   \n",
       "5  9305-CDSKC  2019-03-01  2019-11-01 00:00:00  Month-to-month   \n",
       "6  1452-KIOVK  2018-04-01                   No  Month-to-month   \n",
       "7  6713-OKOMC  2019-04-01                   No  Month-to-month   \n",
       "8  7892-POOKP  2017-07-01  2019-11-01 00:00:00  Month-to-month   \n",
       "9  6388-TABGU  2014-12-01                   No        One year   \n",
       "\n",
       "  PaperlessBilling              PaymentMethod  MonthlyCharges TotalCharges  \n",
       "0              Yes           Electronic check           29.85        29.85  \n",
       "1               No               Mailed check           56.95       1889.5  \n",
       "2              Yes               Mailed check           53.85       108.15  \n",
       "3               No  Bank transfer (automatic)           42.30      1840.75  \n",
       "4              Yes           Electronic check           70.70       151.65  \n",
       "5              Yes           Electronic check           99.65        820.5  \n",
       "6              Yes    Credit card (automatic)           89.10       1949.4  \n",
       "7               No               Mailed check           29.75        301.9  \n",
       "8              Yes           Electronic check          104.80      3046.05  \n",
       "9               No  Bank transfer (automatic)           56.15      3487.95  "
      ]
     },
     "execution_count": 4,
     "metadata": {},
     "output_type": "execute_result"
    }
   ],
   "source": [
    "# Veamos el primer dataset, comentando hallazgos, entre otros\n",
    "contrato.head(10)"
   ]
  },
  {
   "cell_type": "markdown",
   "metadata": {},
   "source": [
    "Para el caso del dataframe llamado ``contrato``, hemos hallado un par de errores en cuanto al tipo de dato:\n",
    "1. La columna ``BeginDate`` no es del tipo correcto, este debe ser del tipo ``DateTime``.\n",
    "\n",
    "2. La columna ``TotalCharges``, tienel el tipo de dato ``object``, cuando este tiene que ser ``int``."
   ]
  },
  {
   "cell_type": "code",
   "execution_count": 5,
   "metadata": {},
   "outputs": [
    {
     "data": {
      "application/vnd.microsoft.datawrangler.viewer.v0+json": {
       "columns": [
        {
         "name": "index",
         "rawType": "int64",
         "type": "integer"
        },
        {
         "name": "customerID",
         "rawType": "object",
         "type": "string"
        },
        {
         "name": "gender",
         "rawType": "object",
         "type": "string"
        },
        {
         "name": "SeniorCitizen",
         "rawType": "int64",
         "type": "integer"
        },
        {
         "name": "Partner",
         "rawType": "object",
         "type": "string"
        },
        {
         "name": "Dependents",
         "rawType": "object",
         "type": "string"
        }
       ],
       "conversionMethod": "pd.DataFrame",
       "ref": "f179b5bd-1467-4445-8a65-c9ab7c75de17",
       "rows": [
        [
         "0",
         "7590-VHVEG",
         "Female",
         "0",
         "Yes",
         "No"
        ],
        [
         "1",
         "5575-GNVDE",
         "Male",
         "0",
         "No",
         "No"
        ],
        [
         "2",
         "3668-QPYBK",
         "Male",
         "0",
         "No",
         "No"
        ],
        [
         "3",
         "7795-CFOCW",
         "Male",
         "0",
         "No",
         "No"
        ],
        [
         "4",
         "9237-HQITU",
         "Female",
         "0",
         "No",
         "No"
        ],
        [
         "5",
         "9305-CDSKC",
         "Female",
         "0",
         "No",
         "No"
        ],
        [
         "6",
         "1452-KIOVK",
         "Male",
         "0",
         "No",
         "Yes"
        ],
        [
         "7",
         "6713-OKOMC",
         "Female",
         "0",
         "No",
         "No"
        ],
        [
         "8",
         "7892-POOKP",
         "Female",
         "0",
         "Yes",
         "No"
        ],
        [
         "9",
         "6388-TABGU",
         "Male",
         "0",
         "No",
         "Yes"
        ]
       ],
       "shape": {
        "columns": 5,
        "rows": 10
       }
      },
      "text/html": [
       "<div>\n",
       "<style scoped>\n",
       "    .dataframe tbody tr th:only-of-type {\n",
       "        vertical-align: middle;\n",
       "    }\n",
       "\n",
       "    .dataframe tbody tr th {\n",
       "        vertical-align: top;\n",
       "    }\n",
       "\n",
       "    .dataframe thead th {\n",
       "        text-align: right;\n",
       "    }\n",
       "</style>\n",
       "<table border=\"1\" class=\"dataframe\">\n",
       "  <thead>\n",
       "    <tr style=\"text-align: right;\">\n",
       "      <th></th>\n",
       "      <th>customerID</th>\n",
       "      <th>gender</th>\n",
       "      <th>SeniorCitizen</th>\n",
       "      <th>Partner</th>\n",
       "      <th>Dependents</th>\n",
       "    </tr>\n",
       "  </thead>\n",
       "  <tbody>\n",
       "    <tr>\n",
       "      <th>0</th>\n",
       "      <td>7590-VHVEG</td>\n",
       "      <td>Female</td>\n",
       "      <td>0</td>\n",
       "      <td>Yes</td>\n",
       "      <td>No</td>\n",
       "    </tr>\n",
       "    <tr>\n",
       "      <th>1</th>\n",
       "      <td>5575-GNVDE</td>\n",
       "      <td>Male</td>\n",
       "      <td>0</td>\n",
       "      <td>No</td>\n",
       "      <td>No</td>\n",
       "    </tr>\n",
       "    <tr>\n",
       "      <th>2</th>\n",
       "      <td>3668-QPYBK</td>\n",
       "      <td>Male</td>\n",
       "      <td>0</td>\n",
       "      <td>No</td>\n",
       "      <td>No</td>\n",
       "    </tr>\n",
       "    <tr>\n",
       "      <th>3</th>\n",
       "      <td>7795-CFOCW</td>\n",
       "      <td>Male</td>\n",
       "      <td>0</td>\n",
       "      <td>No</td>\n",
       "      <td>No</td>\n",
       "    </tr>\n",
       "    <tr>\n",
       "      <th>4</th>\n",
       "      <td>9237-HQITU</td>\n",
       "      <td>Female</td>\n",
       "      <td>0</td>\n",
       "      <td>No</td>\n",
       "      <td>No</td>\n",
       "    </tr>\n",
       "    <tr>\n",
       "      <th>5</th>\n",
       "      <td>9305-CDSKC</td>\n",
       "      <td>Female</td>\n",
       "      <td>0</td>\n",
       "      <td>No</td>\n",
       "      <td>No</td>\n",
       "    </tr>\n",
       "    <tr>\n",
       "      <th>6</th>\n",
       "      <td>1452-KIOVK</td>\n",
       "      <td>Male</td>\n",
       "      <td>0</td>\n",
       "      <td>No</td>\n",
       "      <td>Yes</td>\n",
       "    </tr>\n",
       "    <tr>\n",
       "      <th>7</th>\n",
       "      <td>6713-OKOMC</td>\n",
       "      <td>Female</td>\n",
       "      <td>0</td>\n",
       "      <td>No</td>\n",
       "      <td>No</td>\n",
       "    </tr>\n",
       "    <tr>\n",
       "      <th>8</th>\n",
       "      <td>7892-POOKP</td>\n",
       "      <td>Female</td>\n",
       "      <td>0</td>\n",
       "      <td>Yes</td>\n",
       "      <td>No</td>\n",
       "    </tr>\n",
       "    <tr>\n",
       "      <th>9</th>\n",
       "      <td>6388-TABGU</td>\n",
       "      <td>Male</td>\n",
       "      <td>0</td>\n",
       "      <td>No</td>\n",
       "      <td>Yes</td>\n",
       "    </tr>\n",
       "  </tbody>\n",
       "</table>\n",
       "</div>"
      ],
      "text/plain": [
       "   customerID  gender  SeniorCitizen Partner Dependents\n",
       "0  7590-VHVEG  Female              0     Yes         No\n",
       "1  5575-GNVDE    Male              0      No         No\n",
       "2  3668-QPYBK    Male              0      No         No\n",
       "3  7795-CFOCW    Male              0      No         No\n",
       "4  9237-HQITU  Female              0      No         No\n",
       "5  9305-CDSKC  Female              0      No         No\n",
       "6  1452-KIOVK    Male              0      No        Yes\n",
       "7  6713-OKOMC  Female              0      No         No\n",
       "8  7892-POOKP  Female              0     Yes         No\n",
       "9  6388-TABGU    Male              0      No        Yes"
      ]
     },
     "execution_count": 5,
     "metadata": {},
     "output_type": "execute_result"
    }
   ],
   "source": [
    "#Segundo dataset\n",
    "personal.head(10)"
   ]
  },
  {
   "cell_type": "markdown",
   "metadata": {},
   "source": [
    "Lo interesante de este dataset es que las columnas son totalmente categóricas (a excepción del ID), estas podrían cambiar al tipo de dato bolleano o quizá pensar más adelante en realizar una codificación (One - Hot Encoding)."
   ]
  },
  {
   "cell_type": "code",
   "execution_count": 6,
   "metadata": {},
   "outputs": [
    {
     "data": {
      "application/vnd.microsoft.datawrangler.viewer.v0+json": {
       "columns": [
        {
         "name": "index",
         "rawType": "int64",
         "type": "integer"
        },
        {
         "name": "customerID",
         "rawType": "object",
         "type": "string"
        },
        {
         "name": "InternetService",
         "rawType": "object",
         "type": "string"
        },
        {
         "name": "OnlineSecurity",
         "rawType": "object",
         "type": "string"
        },
        {
         "name": "OnlineBackup",
         "rawType": "object",
         "type": "string"
        },
        {
         "name": "DeviceProtection",
         "rawType": "object",
         "type": "string"
        },
        {
         "name": "TechSupport",
         "rawType": "object",
         "type": "string"
        },
        {
         "name": "StreamingTV",
         "rawType": "object",
         "type": "string"
        },
        {
         "name": "StreamingMovies",
         "rawType": "object",
         "type": "string"
        }
       ],
       "conversionMethod": "pd.DataFrame",
       "ref": "34fd96fd-e0a3-4ab1-8944-45b443b9a31f",
       "rows": [
        [
         "0",
         "7590-VHVEG",
         "DSL",
         "No",
         "Yes",
         "No",
         "No",
         "No",
         "No"
        ],
        [
         "1",
         "5575-GNVDE",
         "DSL",
         "Yes",
         "No",
         "Yes",
         "No",
         "No",
         "No"
        ],
        [
         "2",
         "3668-QPYBK",
         "DSL",
         "Yes",
         "Yes",
         "No",
         "No",
         "No",
         "No"
        ],
        [
         "3",
         "7795-CFOCW",
         "DSL",
         "Yes",
         "No",
         "Yes",
         "Yes",
         "No",
         "No"
        ],
        [
         "4",
         "9237-HQITU",
         "Fiber optic",
         "No",
         "No",
         "No",
         "No",
         "No",
         "No"
        ],
        [
         "5",
         "9305-CDSKC",
         "Fiber optic",
         "No",
         "No",
         "Yes",
         "No",
         "Yes",
         "Yes"
        ],
        [
         "6",
         "1452-KIOVK",
         "Fiber optic",
         "No",
         "Yes",
         "No",
         "No",
         "Yes",
         "No"
        ],
        [
         "7",
         "6713-OKOMC",
         "DSL",
         "Yes",
         "No",
         "No",
         "No",
         "No",
         "No"
        ],
        [
         "8",
         "7892-POOKP",
         "Fiber optic",
         "No",
         "No",
         "Yes",
         "Yes",
         "Yes",
         "Yes"
        ],
        [
         "9",
         "6388-TABGU",
         "DSL",
         "Yes",
         "Yes",
         "No",
         "No",
         "No",
         "No"
        ]
       ],
       "shape": {
        "columns": 8,
        "rows": 10
       }
      },
      "text/html": [
       "<div>\n",
       "<style scoped>\n",
       "    .dataframe tbody tr th:only-of-type {\n",
       "        vertical-align: middle;\n",
       "    }\n",
       "\n",
       "    .dataframe tbody tr th {\n",
       "        vertical-align: top;\n",
       "    }\n",
       "\n",
       "    .dataframe thead th {\n",
       "        text-align: right;\n",
       "    }\n",
       "</style>\n",
       "<table border=\"1\" class=\"dataframe\">\n",
       "  <thead>\n",
       "    <tr style=\"text-align: right;\">\n",
       "      <th></th>\n",
       "      <th>customerID</th>\n",
       "      <th>InternetService</th>\n",
       "      <th>OnlineSecurity</th>\n",
       "      <th>OnlineBackup</th>\n",
       "      <th>DeviceProtection</th>\n",
       "      <th>TechSupport</th>\n",
       "      <th>StreamingTV</th>\n",
       "      <th>StreamingMovies</th>\n",
       "    </tr>\n",
       "  </thead>\n",
       "  <tbody>\n",
       "    <tr>\n",
       "      <th>0</th>\n",
       "      <td>7590-VHVEG</td>\n",
       "      <td>DSL</td>\n",
       "      <td>No</td>\n",
       "      <td>Yes</td>\n",
       "      <td>No</td>\n",
       "      <td>No</td>\n",
       "      <td>No</td>\n",
       "      <td>No</td>\n",
       "    </tr>\n",
       "    <tr>\n",
       "      <th>1</th>\n",
       "      <td>5575-GNVDE</td>\n",
       "      <td>DSL</td>\n",
       "      <td>Yes</td>\n",
       "      <td>No</td>\n",
       "      <td>Yes</td>\n",
       "      <td>No</td>\n",
       "      <td>No</td>\n",
       "      <td>No</td>\n",
       "    </tr>\n",
       "    <tr>\n",
       "      <th>2</th>\n",
       "      <td>3668-QPYBK</td>\n",
       "      <td>DSL</td>\n",
       "      <td>Yes</td>\n",
       "      <td>Yes</td>\n",
       "      <td>No</td>\n",
       "      <td>No</td>\n",
       "      <td>No</td>\n",
       "      <td>No</td>\n",
       "    </tr>\n",
       "    <tr>\n",
       "      <th>3</th>\n",
       "      <td>7795-CFOCW</td>\n",
       "      <td>DSL</td>\n",
       "      <td>Yes</td>\n",
       "      <td>No</td>\n",
       "      <td>Yes</td>\n",
       "      <td>Yes</td>\n",
       "      <td>No</td>\n",
       "      <td>No</td>\n",
       "    </tr>\n",
       "    <tr>\n",
       "      <th>4</th>\n",
       "      <td>9237-HQITU</td>\n",
       "      <td>Fiber optic</td>\n",
       "      <td>No</td>\n",
       "      <td>No</td>\n",
       "      <td>No</td>\n",
       "      <td>No</td>\n",
       "      <td>No</td>\n",
       "      <td>No</td>\n",
       "    </tr>\n",
       "    <tr>\n",
       "      <th>5</th>\n",
       "      <td>9305-CDSKC</td>\n",
       "      <td>Fiber optic</td>\n",
       "      <td>No</td>\n",
       "      <td>No</td>\n",
       "      <td>Yes</td>\n",
       "      <td>No</td>\n",
       "      <td>Yes</td>\n",
       "      <td>Yes</td>\n",
       "    </tr>\n",
       "    <tr>\n",
       "      <th>6</th>\n",
       "      <td>1452-KIOVK</td>\n",
       "      <td>Fiber optic</td>\n",
       "      <td>No</td>\n",
       "      <td>Yes</td>\n",
       "      <td>No</td>\n",
       "      <td>No</td>\n",
       "      <td>Yes</td>\n",
       "      <td>No</td>\n",
       "    </tr>\n",
       "    <tr>\n",
       "      <th>7</th>\n",
       "      <td>6713-OKOMC</td>\n",
       "      <td>DSL</td>\n",
       "      <td>Yes</td>\n",
       "      <td>No</td>\n",
       "      <td>No</td>\n",
       "      <td>No</td>\n",
       "      <td>No</td>\n",
       "      <td>No</td>\n",
       "    </tr>\n",
       "    <tr>\n",
       "      <th>8</th>\n",
       "      <td>7892-POOKP</td>\n",
       "      <td>Fiber optic</td>\n",
       "      <td>No</td>\n",
       "      <td>No</td>\n",
       "      <td>Yes</td>\n",
       "      <td>Yes</td>\n",
       "      <td>Yes</td>\n",
       "      <td>Yes</td>\n",
       "    </tr>\n",
       "    <tr>\n",
       "      <th>9</th>\n",
       "      <td>6388-TABGU</td>\n",
       "      <td>DSL</td>\n",
       "      <td>Yes</td>\n",
       "      <td>Yes</td>\n",
       "      <td>No</td>\n",
       "      <td>No</td>\n",
       "      <td>No</td>\n",
       "      <td>No</td>\n",
       "    </tr>\n",
       "  </tbody>\n",
       "</table>\n",
       "</div>"
      ],
      "text/plain": [
       "   customerID InternetService OnlineSecurity OnlineBackup DeviceProtection  \\\n",
       "0  7590-VHVEG             DSL             No          Yes               No   \n",
       "1  5575-GNVDE             DSL            Yes           No              Yes   \n",
       "2  3668-QPYBK             DSL            Yes          Yes               No   \n",
       "3  7795-CFOCW             DSL            Yes           No              Yes   \n",
       "4  9237-HQITU     Fiber optic             No           No               No   \n",
       "5  9305-CDSKC     Fiber optic             No           No              Yes   \n",
       "6  1452-KIOVK     Fiber optic             No          Yes               No   \n",
       "7  6713-OKOMC             DSL            Yes           No               No   \n",
       "8  7892-POOKP     Fiber optic             No           No              Yes   \n",
       "9  6388-TABGU             DSL            Yes          Yes               No   \n",
       "\n",
       "  TechSupport StreamingTV StreamingMovies  \n",
       "0          No          No              No  \n",
       "1          No          No              No  \n",
       "2          No          No              No  \n",
       "3         Yes          No              No  \n",
       "4          No          No              No  \n",
       "5          No         Yes             Yes  \n",
       "6          No         Yes              No  \n",
       "7          No          No              No  \n",
       "8         Yes         Yes             Yes  \n",
       "9          No          No              No  "
      ]
     },
     "execution_count": 6,
     "metadata": {},
     "output_type": "execute_result"
    }
   ],
   "source": [
    "#Tercer dataset\n",
    "internet.head(10)"
   ]
  },
  {
   "cell_type": "markdown",
   "metadata": {},
   "source": [
    "Curiosamente puedo opinar lo mismo al respecto de este dataset, columnas totalmente categóricas que podrían ser codificadas."
   ]
  },
  {
   "cell_type": "code",
   "execution_count": 7,
   "metadata": {},
   "outputs": [
    {
     "data": {
      "application/vnd.microsoft.datawrangler.viewer.v0+json": {
       "columns": [
        {
         "name": "index",
         "rawType": "int64",
         "type": "integer"
        },
        {
         "name": "customerID",
         "rawType": "object",
         "type": "string"
        },
        {
         "name": "MultipleLines",
         "rawType": "object",
         "type": "string"
        }
       ],
       "conversionMethod": "pd.DataFrame",
       "ref": "360b5519-4f04-45a2-a9ea-2e4be4546ef4",
       "rows": [
        [
         "0",
         "5575-GNVDE",
         "No"
        ],
        [
         "1",
         "3668-QPYBK",
         "No"
        ],
        [
         "2",
         "9237-HQITU",
         "No"
        ],
        [
         "3",
         "9305-CDSKC",
         "Yes"
        ],
        [
         "4",
         "1452-KIOVK",
         "Yes"
        ],
        [
         "5",
         "7892-POOKP",
         "Yes"
        ],
        [
         "6",
         "6388-TABGU",
         "No"
        ],
        [
         "7",
         "9763-GRSKD",
         "No"
        ],
        [
         "8",
         "7469-LKBCI",
         "No"
        ],
        [
         "9",
         "8091-TTVAX",
         "Yes"
        ]
       ],
       "shape": {
        "columns": 2,
        "rows": 10
       }
      },
      "text/html": [
       "<div>\n",
       "<style scoped>\n",
       "    .dataframe tbody tr th:only-of-type {\n",
       "        vertical-align: middle;\n",
       "    }\n",
       "\n",
       "    .dataframe tbody tr th {\n",
       "        vertical-align: top;\n",
       "    }\n",
       "\n",
       "    .dataframe thead th {\n",
       "        text-align: right;\n",
       "    }\n",
       "</style>\n",
       "<table border=\"1\" class=\"dataframe\">\n",
       "  <thead>\n",
       "    <tr style=\"text-align: right;\">\n",
       "      <th></th>\n",
       "      <th>customerID</th>\n",
       "      <th>MultipleLines</th>\n",
       "    </tr>\n",
       "  </thead>\n",
       "  <tbody>\n",
       "    <tr>\n",
       "      <th>0</th>\n",
       "      <td>5575-GNVDE</td>\n",
       "      <td>No</td>\n",
       "    </tr>\n",
       "    <tr>\n",
       "      <th>1</th>\n",
       "      <td>3668-QPYBK</td>\n",
       "      <td>No</td>\n",
       "    </tr>\n",
       "    <tr>\n",
       "      <th>2</th>\n",
       "      <td>9237-HQITU</td>\n",
       "      <td>No</td>\n",
       "    </tr>\n",
       "    <tr>\n",
       "      <th>3</th>\n",
       "      <td>9305-CDSKC</td>\n",
       "      <td>Yes</td>\n",
       "    </tr>\n",
       "    <tr>\n",
       "      <th>4</th>\n",
       "      <td>1452-KIOVK</td>\n",
       "      <td>Yes</td>\n",
       "    </tr>\n",
       "    <tr>\n",
       "      <th>5</th>\n",
       "      <td>7892-POOKP</td>\n",
       "      <td>Yes</td>\n",
       "    </tr>\n",
       "    <tr>\n",
       "      <th>6</th>\n",
       "      <td>6388-TABGU</td>\n",
       "      <td>No</td>\n",
       "    </tr>\n",
       "    <tr>\n",
       "      <th>7</th>\n",
       "      <td>9763-GRSKD</td>\n",
       "      <td>No</td>\n",
       "    </tr>\n",
       "    <tr>\n",
       "      <th>8</th>\n",
       "      <td>7469-LKBCI</td>\n",
       "      <td>No</td>\n",
       "    </tr>\n",
       "    <tr>\n",
       "      <th>9</th>\n",
       "      <td>8091-TTVAX</td>\n",
       "      <td>Yes</td>\n",
       "    </tr>\n",
       "  </tbody>\n",
       "</table>\n",
       "</div>"
      ],
      "text/plain": [
       "   customerID MultipleLines\n",
       "0  5575-GNVDE            No\n",
       "1  3668-QPYBK            No\n",
       "2  9237-HQITU            No\n",
       "3  9305-CDSKC           Yes\n",
       "4  1452-KIOVK           Yes\n",
       "5  7892-POOKP           Yes\n",
       "6  6388-TABGU            No\n",
       "7  9763-GRSKD            No\n",
       "8  7469-LKBCI            No\n",
       "9  8091-TTVAX           Yes"
      ]
     },
     "execution_count": 7,
     "metadata": {},
     "output_type": "execute_result"
    }
   ],
   "source": [
    "#Ultimo dataset\n",
    "telefono.head(10)"
   ]
  },
  {
   "cell_type": "markdown",
   "metadata": {},
   "source": [
    "Este dataset podría representar si el cliente cuenta con otras líneas de servicio, tipo de dato bien.\n",
    "En general no contamos con valores ausentes, pero claro, hablamos desde el punto de vista de que los datasets son individuales y aún no hemos hecho esta fusión de datos."
   ]
  },
  {
   "cell_type": "markdown",
   "metadata": {},
   "source": [
    "<div class=\"alert alert-block alert-success\">\n",
    "<b>Comentario del revisor (1ra Iteración)</b> <a class=“tocSkip”></a>\n",
    "\n",
    "Muy buen trabajo importando las librerías y los datos del proyecto. Adicionalmente usaste correctamente las funciones `info` y `head`, esto te permite hacer una primera revisión de los datos, su estructura y contenido. Con esta información, podemos establecer una hoja de ruta para ajustar, modificar y analizar los datos de una manera adecuada.\n",
    "\n",
    "</div>"
   ]
  },
  {
   "cell_type": "markdown",
   "metadata": {},
   "source": [
    "### Unión de datasets y enriquecimiento de datos"
   ]
  },
  {
   "cell_type": "markdown",
   "metadata": {},
   "source": [
    "Para este paso vamos a fusionar (unir) los datasets para que tengamos solo un dataframe y podamos tener mejores insights para que podamos apreciar correlaciones, estadísticas descriptivas, etc..."
   ]
  },
  {
   "cell_type": "code",
   "execution_count": 8,
   "metadata": {},
   "outputs": [],
   "source": [
    "#Usemos la función merge para poder unir nuestros datasets\n",
    "df_merged = contrato.merge(personal, on='customerID', how='left')\n",
    "df_merged = df_merged.merge(internet, on='customerID', how='left')\n",
    "df_merged = df_merged.merge(telefono, on='customerID', how='left')"
   ]
  },
  {
   "cell_type": "code",
   "execution_count": 9,
   "metadata": {},
   "outputs": [
    {
     "data": {
      "application/vnd.microsoft.datawrangler.viewer.v0+json": {
       "columns": [
        {
         "name": "index",
         "rawType": "int64",
         "type": "integer"
        },
        {
         "name": "customerID",
         "rawType": "object",
         "type": "string"
        },
        {
         "name": "BeginDate",
         "rawType": "object",
         "type": "string"
        },
        {
         "name": "EndDate",
         "rawType": "object",
         "type": "string"
        },
        {
         "name": "Type",
         "rawType": "object",
         "type": "string"
        },
        {
         "name": "PaperlessBilling",
         "rawType": "object",
         "type": "string"
        },
        {
         "name": "PaymentMethod",
         "rawType": "object",
         "type": "string"
        },
        {
         "name": "MonthlyCharges",
         "rawType": "float64",
         "type": "float"
        },
        {
         "name": "TotalCharges",
         "rawType": "object",
         "type": "string"
        },
        {
         "name": "gender",
         "rawType": "object",
         "type": "string"
        },
        {
         "name": "SeniorCitizen",
         "rawType": "int64",
         "type": "integer"
        },
        {
         "name": "Partner",
         "rawType": "object",
         "type": "string"
        },
        {
         "name": "Dependents",
         "rawType": "object",
         "type": "string"
        },
        {
         "name": "InternetService",
         "rawType": "object",
         "type": "string"
        },
        {
         "name": "OnlineSecurity",
         "rawType": "object",
         "type": "string"
        },
        {
         "name": "OnlineBackup",
         "rawType": "object",
         "type": "string"
        },
        {
         "name": "DeviceProtection",
         "rawType": "object",
         "type": "string"
        },
        {
         "name": "TechSupport",
         "rawType": "object",
         "type": "string"
        },
        {
         "name": "StreamingTV",
         "rawType": "object",
         "type": "string"
        },
        {
         "name": "StreamingMovies",
         "rawType": "object",
         "type": "string"
        },
        {
         "name": "MultipleLines",
         "rawType": "object",
         "type": "unknown"
        }
       ],
       "conversionMethod": "pd.DataFrame",
       "ref": "b688b02a-edab-462a-9865-8c0cfaeba727",
       "rows": [
        [
         "0",
         "7590-VHVEG",
         "2020-01-01",
         "No",
         "Month-to-month",
         "Yes",
         "Electronic check",
         "29.85",
         "29.85",
         "Female",
         "0",
         "Yes",
         "No",
         "DSL",
         "No",
         "Yes",
         "No",
         "No",
         "No",
         "No",
         null
        ],
        [
         "1",
         "5575-GNVDE",
         "2017-04-01",
         "No",
         "One year",
         "No",
         "Mailed check",
         "56.95",
         "1889.5",
         "Male",
         "0",
         "No",
         "No",
         "DSL",
         "Yes",
         "No",
         "Yes",
         "No",
         "No",
         "No",
         "No"
        ],
        [
         "2",
         "3668-QPYBK",
         "2019-10-01",
         "2019-12-01 00:00:00",
         "Month-to-month",
         "Yes",
         "Mailed check",
         "53.85",
         "108.15",
         "Male",
         "0",
         "No",
         "No",
         "DSL",
         "Yes",
         "Yes",
         "No",
         "No",
         "No",
         "No",
         "No"
        ],
        [
         "3",
         "7795-CFOCW",
         "2016-05-01",
         "No",
         "One year",
         "No",
         "Bank transfer (automatic)",
         "42.3",
         "1840.75",
         "Male",
         "0",
         "No",
         "No",
         "DSL",
         "Yes",
         "No",
         "Yes",
         "Yes",
         "No",
         "No",
         null
        ],
        [
         "4",
         "9237-HQITU",
         "2019-09-01",
         "2019-11-01 00:00:00",
         "Month-to-month",
         "Yes",
         "Electronic check",
         "70.7",
         "151.65",
         "Female",
         "0",
         "No",
         "No",
         "Fiber optic",
         "No",
         "No",
         "No",
         "No",
         "No",
         "No",
         "No"
        ]
       ],
       "shape": {
        "columns": 20,
        "rows": 5
       }
      },
      "text/html": [
       "<div>\n",
       "<style scoped>\n",
       "    .dataframe tbody tr th:only-of-type {\n",
       "        vertical-align: middle;\n",
       "    }\n",
       "\n",
       "    .dataframe tbody tr th {\n",
       "        vertical-align: top;\n",
       "    }\n",
       "\n",
       "    .dataframe thead th {\n",
       "        text-align: right;\n",
       "    }\n",
       "</style>\n",
       "<table border=\"1\" class=\"dataframe\">\n",
       "  <thead>\n",
       "    <tr style=\"text-align: right;\">\n",
       "      <th></th>\n",
       "      <th>customerID</th>\n",
       "      <th>BeginDate</th>\n",
       "      <th>EndDate</th>\n",
       "      <th>Type</th>\n",
       "      <th>PaperlessBilling</th>\n",
       "      <th>PaymentMethod</th>\n",
       "      <th>MonthlyCharges</th>\n",
       "      <th>TotalCharges</th>\n",
       "      <th>gender</th>\n",
       "      <th>SeniorCitizen</th>\n",
       "      <th>Partner</th>\n",
       "      <th>Dependents</th>\n",
       "      <th>InternetService</th>\n",
       "      <th>OnlineSecurity</th>\n",
       "      <th>OnlineBackup</th>\n",
       "      <th>DeviceProtection</th>\n",
       "      <th>TechSupport</th>\n",
       "      <th>StreamingTV</th>\n",
       "      <th>StreamingMovies</th>\n",
       "      <th>MultipleLines</th>\n",
       "    </tr>\n",
       "  </thead>\n",
       "  <tbody>\n",
       "    <tr>\n",
       "      <th>0</th>\n",
       "      <td>7590-VHVEG</td>\n",
       "      <td>2020-01-01</td>\n",
       "      <td>No</td>\n",
       "      <td>Month-to-month</td>\n",
       "      <td>Yes</td>\n",
       "      <td>Electronic check</td>\n",
       "      <td>29.85</td>\n",
       "      <td>29.85</td>\n",
       "      <td>Female</td>\n",
       "      <td>0</td>\n",
       "      <td>Yes</td>\n",
       "      <td>No</td>\n",
       "      <td>DSL</td>\n",
       "      <td>No</td>\n",
       "      <td>Yes</td>\n",
       "      <td>No</td>\n",
       "      <td>No</td>\n",
       "      <td>No</td>\n",
       "      <td>No</td>\n",
       "      <td>NaN</td>\n",
       "    </tr>\n",
       "    <tr>\n",
       "      <th>1</th>\n",
       "      <td>5575-GNVDE</td>\n",
       "      <td>2017-04-01</td>\n",
       "      <td>No</td>\n",
       "      <td>One year</td>\n",
       "      <td>No</td>\n",
       "      <td>Mailed check</td>\n",
       "      <td>56.95</td>\n",
       "      <td>1889.5</td>\n",
       "      <td>Male</td>\n",
       "      <td>0</td>\n",
       "      <td>No</td>\n",
       "      <td>No</td>\n",
       "      <td>DSL</td>\n",
       "      <td>Yes</td>\n",
       "      <td>No</td>\n",
       "      <td>Yes</td>\n",
       "      <td>No</td>\n",
       "      <td>No</td>\n",
       "      <td>No</td>\n",
       "      <td>No</td>\n",
       "    </tr>\n",
       "    <tr>\n",
       "      <th>2</th>\n",
       "      <td>3668-QPYBK</td>\n",
       "      <td>2019-10-01</td>\n",
       "      <td>2019-12-01 00:00:00</td>\n",
       "      <td>Month-to-month</td>\n",
       "      <td>Yes</td>\n",
       "      <td>Mailed check</td>\n",
       "      <td>53.85</td>\n",
       "      <td>108.15</td>\n",
       "      <td>Male</td>\n",
       "      <td>0</td>\n",
       "      <td>No</td>\n",
       "      <td>No</td>\n",
       "      <td>DSL</td>\n",
       "      <td>Yes</td>\n",
       "      <td>Yes</td>\n",
       "      <td>No</td>\n",
       "      <td>No</td>\n",
       "      <td>No</td>\n",
       "      <td>No</td>\n",
       "      <td>No</td>\n",
       "    </tr>\n",
       "    <tr>\n",
       "      <th>3</th>\n",
       "      <td>7795-CFOCW</td>\n",
       "      <td>2016-05-01</td>\n",
       "      <td>No</td>\n",
       "      <td>One year</td>\n",
       "      <td>No</td>\n",
       "      <td>Bank transfer (automatic)</td>\n",
       "      <td>42.30</td>\n",
       "      <td>1840.75</td>\n",
       "      <td>Male</td>\n",
       "      <td>0</td>\n",
       "      <td>No</td>\n",
       "      <td>No</td>\n",
       "      <td>DSL</td>\n",
       "      <td>Yes</td>\n",
       "      <td>No</td>\n",
       "      <td>Yes</td>\n",
       "      <td>Yes</td>\n",
       "      <td>No</td>\n",
       "      <td>No</td>\n",
       "      <td>NaN</td>\n",
       "    </tr>\n",
       "    <tr>\n",
       "      <th>4</th>\n",
       "      <td>9237-HQITU</td>\n",
       "      <td>2019-09-01</td>\n",
       "      <td>2019-11-01 00:00:00</td>\n",
       "      <td>Month-to-month</td>\n",
       "      <td>Yes</td>\n",
       "      <td>Electronic check</td>\n",
       "      <td>70.70</td>\n",
       "      <td>151.65</td>\n",
       "      <td>Female</td>\n",
       "      <td>0</td>\n",
       "      <td>No</td>\n",
       "      <td>No</td>\n",
       "      <td>Fiber optic</td>\n",
       "      <td>No</td>\n",
       "      <td>No</td>\n",
       "      <td>No</td>\n",
       "      <td>No</td>\n",
       "      <td>No</td>\n",
       "      <td>No</td>\n",
       "      <td>No</td>\n",
       "    </tr>\n",
       "  </tbody>\n",
       "</table>\n",
       "</div>"
      ],
      "text/plain": [
       "   customerID   BeginDate              EndDate            Type  \\\n",
       "0  7590-VHVEG  2020-01-01                   No  Month-to-month   \n",
       "1  5575-GNVDE  2017-04-01                   No        One year   \n",
       "2  3668-QPYBK  2019-10-01  2019-12-01 00:00:00  Month-to-month   \n",
       "3  7795-CFOCW  2016-05-01                   No        One year   \n",
       "4  9237-HQITU  2019-09-01  2019-11-01 00:00:00  Month-to-month   \n",
       "\n",
       "  PaperlessBilling              PaymentMethod  MonthlyCharges TotalCharges  \\\n",
       "0              Yes           Electronic check           29.85        29.85   \n",
       "1               No               Mailed check           56.95       1889.5   \n",
       "2              Yes               Mailed check           53.85       108.15   \n",
       "3               No  Bank transfer (automatic)           42.30      1840.75   \n",
       "4              Yes           Electronic check           70.70       151.65   \n",
       "\n",
       "   gender  SeniorCitizen Partner Dependents InternetService OnlineSecurity  \\\n",
       "0  Female              0     Yes         No             DSL             No   \n",
       "1    Male              0      No         No             DSL            Yes   \n",
       "2    Male              0      No         No             DSL            Yes   \n",
       "3    Male              0      No         No             DSL            Yes   \n",
       "4  Female              0      No         No     Fiber optic             No   \n",
       "\n",
       "  OnlineBackup DeviceProtection TechSupport StreamingTV StreamingMovies  \\\n",
       "0          Yes               No          No          No              No   \n",
       "1           No              Yes          No          No              No   \n",
       "2          Yes               No          No          No              No   \n",
       "3           No              Yes         Yes          No              No   \n",
       "4           No               No          No          No              No   \n",
       "\n",
       "  MultipleLines  \n",
       "0           NaN  \n",
       "1            No  \n",
       "2            No  \n",
       "3           NaN  \n",
       "4            No  "
      ]
     },
     "execution_count": 9,
     "metadata": {},
     "output_type": "execute_result"
    }
   ],
   "source": [
    "#Visualicemos estos datos\n",
    "df_merged.head()"
   ]
  },
  {
   "cell_type": "code",
   "execution_count": 10,
   "metadata": {},
   "outputs": [
    {
     "name": "stdout",
     "output_type": "stream",
     "text": [
      "<class 'pandas.core.frame.DataFrame'>\n",
      "RangeIndex: 7043 entries, 0 to 7042\n",
      "Data columns (total 20 columns):\n",
      " #   Column            Non-Null Count  Dtype  \n",
      "---  ------            --------------  -----  \n",
      " 0   customerID        7043 non-null   object \n",
      " 1   BeginDate         7043 non-null   object \n",
      " 2   EndDate           7043 non-null   object \n",
      " 3   Type              7043 non-null   object \n",
      " 4   PaperlessBilling  7043 non-null   object \n",
      " 5   PaymentMethod     7043 non-null   object \n",
      " 6   MonthlyCharges    7043 non-null   float64\n",
      " 7   TotalCharges      7043 non-null   object \n",
      " 8   gender            7043 non-null   object \n",
      " 9   SeniorCitizen     7043 non-null   int64  \n",
      " 10  Partner           7043 non-null   object \n",
      " 11  Dependents        7043 non-null   object \n",
      " 12  InternetService   5517 non-null   object \n",
      " 13  OnlineSecurity    5517 non-null   object \n",
      " 14  OnlineBackup      5517 non-null   object \n",
      " 15  DeviceProtection  5517 non-null   object \n",
      " 16  TechSupport       5517 non-null   object \n",
      " 17  StreamingTV       5517 non-null   object \n",
      " 18  StreamingMovies   5517 non-null   object \n",
      " 19  MultipleLines     6361 non-null   object \n",
      "dtypes: float64(1), int64(1), object(18)\n",
      "memory usage: 1.1+ MB\n"
     ]
    }
   ],
   "source": [
    "df_merged.info()"
   ]
  },
  {
   "cell_type": "markdown",
   "metadata": {},
   "source": [
    "Uno de los primeros movimientos que voy a realizar en nuestro dataframe fusionado es la transformación de nuestras columnas categóricas no implicitas a columnas numéricas, es decir, esta conversión se realiza principalmente porque nuestros modelos de ML no procesan valores categóricos, a menos que sean códificados. \n",
    "\n",
    "Este paso principalmente se enfoca en el hecho de convertir esas columnas que columnas que tienen valores como ``Yes`` y ``No`` a valores binarios. "
   ]
  },
  {
   "cell_type": "code",
   "execution_count": 11,
   "metadata": {},
   "outputs": [
    {
     "name": "stderr",
     "output_type": "stream",
     "text": [
      "C:\\Users\\Ariel\\AppData\\Local\\Temp\\ipykernel_9864\\1034799909.py:5: FutureWarning: Downcasting behavior in `replace` is deprecated and will be removed in a future version. To retain the old behavior, explicitly call `result.infer_objects(copy=False)`. To opt-in to the future behavior, set `pd.set_option('future.no_silent_downcasting', True)`\n",
      "  df_merged[col] = df_merged[col].replace({'No': 0, 'Yes': 1})\n"
     ]
    }
   ],
   "source": [
    "#Vamos a declarar la lista de las columnas que son categóricas\n",
    "columns_change = ['PaperlessBilling', 'Partner', 'Dependents', 'OnlineSecurity', 'OnlineBackup', 'DeviceProtection', 'TechSupport', 'StreamingTV', 'StreamingMovies', 'MultipleLines']\n",
    "#Vamos a crear un bucle para poder transformar estos valores\n",
    "for col in columns_change:\n",
    "    df_merged[col] = df_merged[col].replace({'No': 0, 'Yes': 1})\n",
    "    #Aquí vamos a imputar con 0 aquellos servicios secundarios nulos\n",
    "    df_merged[col] = df_merged[col].fillna(0)"
   ]
  },
  {
   "cell_type": "markdown",
   "metadata": {},
   "source": [
    "<div class=\"alert alert-block alert-success\">\n",
    "<b>Comentario del revisor (1ra Iteración)</b> <a class=“tocSkip”></a>\n",
    "\n",
    "Gran idea reasignando los valores para las variables categóricas. Esto facilitará su manipulación.\n",
    "\n",
    "</div>"
   ]
  },
  {
   "cell_type": "code",
   "execution_count": 12,
   "metadata": {},
   "outputs": [
    {
     "data": {
      "application/vnd.microsoft.datawrangler.viewer.v0+json": {
       "columns": [
        {
         "name": "index",
         "rawType": "int64",
         "type": "integer"
        },
        {
         "name": "customerID",
         "rawType": "object",
         "type": "string"
        },
        {
         "name": "BeginDate",
         "rawType": "object",
         "type": "string"
        },
        {
         "name": "EndDate",
         "rawType": "object",
         "type": "string"
        },
        {
         "name": "Type",
         "rawType": "object",
         "type": "string"
        },
        {
         "name": "PaperlessBilling",
         "rawType": "int64",
         "type": "integer"
        },
        {
         "name": "PaymentMethod",
         "rawType": "object",
         "type": "string"
        },
        {
         "name": "MonthlyCharges",
         "rawType": "float64",
         "type": "float"
        },
        {
         "name": "TotalCharges",
         "rawType": "object",
         "type": "string"
        },
        {
         "name": "gender",
         "rawType": "object",
         "type": "string"
        },
        {
         "name": "SeniorCitizen",
         "rawType": "int64",
         "type": "integer"
        },
        {
         "name": "Partner",
         "rawType": "int64",
         "type": "integer"
        },
        {
         "name": "Dependents",
         "rawType": "int64",
         "type": "integer"
        },
        {
         "name": "InternetService",
         "rawType": "object",
         "type": "string"
        },
        {
         "name": "OnlineSecurity",
         "rawType": "float64",
         "type": "float"
        },
        {
         "name": "OnlineBackup",
         "rawType": "float64",
         "type": "float"
        },
        {
         "name": "DeviceProtection",
         "rawType": "float64",
         "type": "float"
        },
        {
         "name": "TechSupport",
         "rawType": "float64",
         "type": "float"
        },
        {
         "name": "StreamingTV",
         "rawType": "float64",
         "type": "float"
        },
        {
         "name": "StreamingMovies",
         "rawType": "float64",
         "type": "float"
        },
        {
         "name": "MultipleLines",
         "rawType": "float64",
         "type": "float"
        }
       ],
       "conversionMethod": "pd.DataFrame",
       "ref": "47a5e3cc-9d85-418c-84ea-313ca826c6e3",
       "rows": [
        [
         "0",
         "7590-VHVEG",
         "2020-01-01",
         "No",
         "Month-to-month",
         "1",
         "Electronic check",
         "29.85",
         "29.85",
         "Female",
         "0",
         "1",
         "0",
         "DSL",
         "0.0",
         "1.0",
         "0.0",
         "0.0",
         "0.0",
         "0.0",
         "0.0"
        ],
        [
         "1",
         "5575-GNVDE",
         "2017-04-01",
         "No",
         "One year",
         "0",
         "Mailed check",
         "56.95",
         "1889.5",
         "Male",
         "0",
         "0",
         "0",
         "DSL",
         "1.0",
         "0.0",
         "1.0",
         "0.0",
         "0.0",
         "0.0",
         "0.0"
        ],
        [
         "2",
         "3668-QPYBK",
         "2019-10-01",
         "2019-12-01 00:00:00",
         "Month-to-month",
         "1",
         "Mailed check",
         "53.85",
         "108.15",
         "Male",
         "0",
         "0",
         "0",
         "DSL",
         "1.0",
         "1.0",
         "0.0",
         "0.0",
         "0.0",
         "0.0",
         "0.0"
        ],
        [
         "3",
         "7795-CFOCW",
         "2016-05-01",
         "No",
         "One year",
         "0",
         "Bank transfer (automatic)",
         "42.3",
         "1840.75",
         "Male",
         "0",
         "0",
         "0",
         "DSL",
         "1.0",
         "0.0",
         "1.0",
         "1.0",
         "0.0",
         "0.0",
         "0.0"
        ],
        [
         "4",
         "9237-HQITU",
         "2019-09-01",
         "2019-11-01 00:00:00",
         "Month-to-month",
         "1",
         "Electronic check",
         "70.7",
         "151.65",
         "Female",
         "0",
         "0",
         "0",
         "Fiber optic",
         "0.0",
         "0.0",
         "0.0",
         "0.0",
         "0.0",
         "0.0",
         "0.0"
        ]
       ],
       "shape": {
        "columns": 20,
        "rows": 5
       }
      },
      "text/html": [
       "<div>\n",
       "<style scoped>\n",
       "    .dataframe tbody tr th:only-of-type {\n",
       "        vertical-align: middle;\n",
       "    }\n",
       "\n",
       "    .dataframe tbody tr th {\n",
       "        vertical-align: top;\n",
       "    }\n",
       "\n",
       "    .dataframe thead th {\n",
       "        text-align: right;\n",
       "    }\n",
       "</style>\n",
       "<table border=\"1\" class=\"dataframe\">\n",
       "  <thead>\n",
       "    <tr style=\"text-align: right;\">\n",
       "      <th></th>\n",
       "      <th>customerID</th>\n",
       "      <th>BeginDate</th>\n",
       "      <th>EndDate</th>\n",
       "      <th>Type</th>\n",
       "      <th>PaperlessBilling</th>\n",
       "      <th>PaymentMethod</th>\n",
       "      <th>MonthlyCharges</th>\n",
       "      <th>TotalCharges</th>\n",
       "      <th>gender</th>\n",
       "      <th>SeniorCitizen</th>\n",
       "      <th>Partner</th>\n",
       "      <th>Dependents</th>\n",
       "      <th>InternetService</th>\n",
       "      <th>OnlineSecurity</th>\n",
       "      <th>OnlineBackup</th>\n",
       "      <th>DeviceProtection</th>\n",
       "      <th>TechSupport</th>\n",
       "      <th>StreamingTV</th>\n",
       "      <th>StreamingMovies</th>\n",
       "      <th>MultipleLines</th>\n",
       "    </tr>\n",
       "  </thead>\n",
       "  <tbody>\n",
       "    <tr>\n",
       "      <th>0</th>\n",
       "      <td>7590-VHVEG</td>\n",
       "      <td>2020-01-01</td>\n",
       "      <td>No</td>\n",
       "      <td>Month-to-month</td>\n",
       "      <td>1</td>\n",
       "      <td>Electronic check</td>\n",
       "      <td>29.85</td>\n",
       "      <td>29.85</td>\n",
       "      <td>Female</td>\n",
       "      <td>0</td>\n",
       "      <td>1</td>\n",
       "      <td>0</td>\n",
       "      <td>DSL</td>\n",
       "      <td>0.0</td>\n",
       "      <td>1.0</td>\n",
       "      <td>0.0</td>\n",
       "      <td>0.0</td>\n",
       "      <td>0.0</td>\n",
       "      <td>0.0</td>\n",
       "      <td>0.0</td>\n",
       "    </tr>\n",
       "    <tr>\n",
       "      <th>1</th>\n",
       "      <td>5575-GNVDE</td>\n",
       "      <td>2017-04-01</td>\n",
       "      <td>No</td>\n",
       "      <td>One year</td>\n",
       "      <td>0</td>\n",
       "      <td>Mailed check</td>\n",
       "      <td>56.95</td>\n",
       "      <td>1889.5</td>\n",
       "      <td>Male</td>\n",
       "      <td>0</td>\n",
       "      <td>0</td>\n",
       "      <td>0</td>\n",
       "      <td>DSL</td>\n",
       "      <td>1.0</td>\n",
       "      <td>0.0</td>\n",
       "      <td>1.0</td>\n",
       "      <td>0.0</td>\n",
       "      <td>0.0</td>\n",
       "      <td>0.0</td>\n",
       "      <td>0.0</td>\n",
       "    </tr>\n",
       "    <tr>\n",
       "      <th>2</th>\n",
       "      <td>3668-QPYBK</td>\n",
       "      <td>2019-10-01</td>\n",
       "      <td>2019-12-01 00:00:00</td>\n",
       "      <td>Month-to-month</td>\n",
       "      <td>1</td>\n",
       "      <td>Mailed check</td>\n",
       "      <td>53.85</td>\n",
       "      <td>108.15</td>\n",
       "      <td>Male</td>\n",
       "      <td>0</td>\n",
       "      <td>0</td>\n",
       "      <td>0</td>\n",
       "      <td>DSL</td>\n",
       "      <td>1.0</td>\n",
       "      <td>1.0</td>\n",
       "      <td>0.0</td>\n",
       "      <td>0.0</td>\n",
       "      <td>0.0</td>\n",
       "      <td>0.0</td>\n",
       "      <td>0.0</td>\n",
       "    </tr>\n",
       "    <tr>\n",
       "      <th>3</th>\n",
       "      <td>7795-CFOCW</td>\n",
       "      <td>2016-05-01</td>\n",
       "      <td>No</td>\n",
       "      <td>One year</td>\n",
       "      <td>0</td>\n",
       "      <td>Bank transfer (automatic)</td>\n",
       "      <td>42.30</td>\n",
       "      <td>1840.75</td>\n",
       "      <td>Male</td>\n",
       "      <td>0</td>\n",
       "      <td>0</td>\n",
       "      <td>0</td>\n",
       "      <td>DSL</td>\n",
       "      <td>1.0</td>\n",
       "      <td>0.0</td>\n",
       "      <td>1.0</td>\n",
       "      <td>1.0</td>\n",
       "      <td>0.0</td>\n",
       "      <td>0.0</td>\n",
       "      <td>0.0</td>\n",
       "    </tr>\n",
       "    <tr>\n",
       "      <th>4</th>\n",
       "      <td>9237-HQITU</td>\n",
       "      <td>2019-09-01</td>\n",
       "      <td>2019-11-01 00:00:00</td>\n",
       "      <td>Month-to-month</td>\n",
       "      <td>1</td>\n",
       "      <td>Electronic check</td>\n",
       "      <td>70.70</td>\n",
       "      <td>151.65</td>\n",
       "      <td>Female</td>\n",
       "      <td>0</td>\n",
       "      <td>0</td>\n",
       "      <td>0</td>\n",
       "      <td>Fiber optic</td>\n",
       "      <td>0.0</td>\n",
       "      <td>0.0</td>\n",
       "      <td>0.0</td>\n",
       "      <td>0.0</td>\n",
       "      <td>0.0</td>\n",
       "      <td>0.0</td>\n",
       "      <td>0.0</td>\n",
       "    </tr>\n",
       "  </tbody>\n",
       "</table>\n",
       "</div>"
      ],
      "text/plain": [
       "   customerID   BeginDate              EndDate            Type  \\\n",
       "0  7590-VHVEG  2020-01-01                   No  Month-to-month   \n",
       "1  5575-GNVDE  2017-04-01                   No        One year   \n",
       "2  3668-QPYBK  2019-10-01  2019-12-01 00:00:00  Month-to-month   \n",
       "3  7795-CFOCW  2016-05-01                   No        One year   \n",
       "4  9237-HQITU  2019-09-01  2019-11-01 00:00:00  Month-to-month   \n",
       "\n",
       "   PaperlessBilling              PaymentMethod  MonthlyCharges TotalCharges  \\\n",
       "0                 1           Electronic check           29.85        29.85   \n",
       "1                 0               Mailed check           56.95       1889.5   \n",
       "2                 1               Mailed check           53.85       108.15   \n",
       "3                 0  Bank transfer (automatic)           42.30      1840.75   \n",
       "4                 1           Electronic check           70.70       151.65   \n",
       "\n",
       "   gender  SeniorCitizen  Partner  Dependents InternetService  OnlineSecurity  \\\n",
       "0  Female              0        1           0             DSL             0.0   \n",
       "1    Male              0        0           0             DSL             1.0   \n",
       "2    Male              0        0           0             DSL             1.0   \n",
       "3    Male              0        0           0             DSL             1.0   \n",
       "4  Female              0        0           0     Fiber optic             0.0   \n",
       "\n",
       "   OnlineBackup  DeviceProtection  TechSupport  StreamingTV  StreamingMovies  \\\n",
       "0           1.0               0.0          0.0          0.0              0.0   \n",
       "1           0.0               1.0          0.0          0.0              0.0   \n",
       "2           1.0               0.0          0.0          0.0              0.0   \n",
       "3           0.0               1.0          1.0          0.0              0.0   \n",
       "4           0.0               0.0          0.0          0.0              0.0   \n",
       "\n",
       "   MultipleLines  \n",
       "0            0.0  \n",
       "1            0.0  \n",
       "2            0.0  \n",
       "3            0.0  \n",
       "4            0.0  "
      ]
     },
     "execution_count": 12,
     "metadata": {},
     "output_type": "execute_result"
    }
   ],
   "source": [
    "df_merged.head()"
   ]
  },
  {
   "cell_type": "code",
   "execution_count": 13,
   "metadata": {},
   "outputs": [],
   "source": [
    "#Vamos a cambiar los tipos de datos de algunas columnas que son incorrectos\n",
    "df_merged['BeginDate'] = pd.to_datetime(df_merged['BeginDate'])\n",
    "#df_merged['TotalCharges'] = df_merged['TotalCharges'].astype(float)"
   ]
  },
  {
   "cell_type": "code",
   "execution_count": 14,
   "metadata": {},
   "outputs": [
    {
     "data": {
      "application/vnd.microsoft.datawrangler.viewer.v0+json": {
       "columns": [
        {
         "name": "index",
         "rawType": "int64",
         "type": "integer"
        },
        {
         "name": "customerID",
         "rawType": "object",
         "type": "string"
        },
        {
         "name": "BeginDate",
         "rawType": "datetime64[ns]",
         "type": "datetime"
        },
        {
         "name": "EndDate",
         "rawType": "object",
         "type": "string"
        },
        {
         "name": "Type",
         "rawType": "object",
         "type": "string"
        },
        {
         "name": "PaperlessBilling",
         "rawType": "int64",
         "type": "integer"
        },
        {
         "name": "PaymentMethod",
         "rawType": "object",
         "type": "string"
        },
        {
         "name": "MonthlyCharges",
         "rawType": "float64",
         "type": "float"
        },
        {
         "name": "TotalCharges",
         "rawType": "object",
         "type": "string"
        },
        {
         "name": "gender",
         "rawType": "object",
         "type": "string"
        },
        {
         "name": "SeniorCitizen",
         "rawType": "int64",
         "type": "integer"
        },
        {
         "name": "Partner",
         "rawType": "int64",
         "type": "integer"
        },
        {
         "name": "Dependents",
         "rawType": "int64",
         "type": "integer"
        },
        {
         "name": "InternetService",
         "rawType": "object",
         "type": "unknown"
        },
        {
         "name": "OnlineSecurity",
         "rawType": "float64",
         "type": "float"
        },
        {
         "name": "OnlineBackup",
         "rawType": "float64",
         "type": "float"
        },
        {
         "name": "DeviceProtection",
         "rawType": "float64",
         "type": "float"
        },
        {
         "name": "TechSupport",
         "rawType": "float64",
         "type": "float"
        },
        {
         "name": "StreamingTV",
         "rawType": "float64",
         "type": "float"
        },
        {
         "name": "StreamingMovies",
         "rawType": "float64",
         "type": "float"
        },
        {
         "name": "MultipleLines",
         "rawType": "float64",
         "type": "float"
        }
       ],
       "conversionMethod": "pd.DataFrame",
       "ref": "1f94623c-0ac1-4669-a848-a23fd9ea702b",
       "rows": [
        [
         "488",
         "4472-LVYGI",
         "2020-02-01 00:00:00",
         "No",
         "Two year",
         "1",
         "Bank transfer (automatic)",
         "52.55",
         " ",
         "Female",
         "0",
         "1",
         "1",
         "DSL",
         "1.0",
         "0.0",
         "1.0",
         "1.0",
         "1.0",
         "0.0",
         "0.0"
        ],
        [
         "753",
         "3115-CZMZD",
         "2020-02-01 00:00:00",
         "No",
         "Two year",
         "0",
         "Mailed check",
         "20.25",
         " ",
         "Male",
         "0",
         "0",
         "1",
         null,
         "0.0",
         "0.0",
         "0.0",
         "0.0",
         "0.0",
         "0.0",
         "0.0"
        ],
        [
         "936",
         "5709-LVOEQ",
         "2020-02-01 00:00:00",
         "No",
         "Two year",
         "0",
         "Mailed check",
         "80.85",
         " ",
         "Female",
         "0",
         "1",
         "1",
         "DSL",
         "1.0",
         "1.0",
         "1.0",
         "0.0",
         "1.0",
         "1.0",
         "0.0"
        ],
        [
         "1082",
         "4367-NUYAO",
         "2020-02-01 00:00:00",
         "No",
         "Two year",
         "0",
         "Mailed check",
         "25.75",
         " ",
         "Male",
         "0",
         "1",
         "1",
         null,
         "0.0",
         "0.0",
         "0.0",
         "0.0",
         "0.0",
         "0.0",
         "1.0"
        ],
        [
         "1340",
         "1371-DWPAZ",
         "2020-02-01 00:00:00",
         "No",
         "Two year",
         "0",
         "Credit card (automatic)",
         "56.05",
         " ",
         "Female",
         "0",
         "1",
         "1",
         "DSL",
         "1.0",
         "1.0",
         "1.0",
         "1.0",
         "1.0",
         "0.0",
         "0.0"
        ],
        [
         "3331",
         "7644-OMVMY",
         "2020-02-01 00:00:00",
         "No",
         "Two year",
         "0",
         "Mailed check",
         "19.85",
         " ",
         "Male",
         "0",
         "1",
         "1",
         null,
         "0.0",
         "0.0",
         "0.0",
         "0.0",
         "0.0",
         "0.0",
         "0.0"
        ],
        [
         "3826",
         "3213-VVOLG",
         "2020-02-01 00:00:00",
         "No",
         "Two year",
         "0",
         "Mailed check",
         "25.35",
         " ",
         "Male",
         "0",
         "1",
         "1",
         null,
         "0.0",
         "0.0",
         "0.0",
         "0.0",
         "0.0",
         "0.0",
         "1.0"
        ],
        [
         "4380",
         "2520-SGTTA",
         "2020-02-01 00:00:00",
         "No",
         "Two year",
         "0",
         "Mailed check",
         "20.0",
         " ",
         "Female",
         "0",
         "1",
         "1",
         null,
         "0.0",
         "0.0",
         "0.0",
         "0.0",
         "0.0",
         "0.0",
         "0.0"
        ],
        [
         "5218",
         "2923-ARZLG",
         "2020-02-01 00:00:00",
         "No",
         "One year",
         "1",
         "Mailed check",
         "19.7",
         " ",
         "Male",
         "0",
         "1",
         "1",
         null,
         "0.0",
         "0.0",
         "0.0",
         "0.0",
         "0.0",
         "0.0",
         "0.0"
        ],
        [
         "6670",
         "4075-WKNIU",
         "2020-02-01 00:00:00",
         "No",
         "Two year",
         "0",
         "Mailed check",
         "73.35",
         " ",
         "Female",
         "0",
         "1",
         "1",
         "DSL",
         "0.0",
         "1.0",
         "1.0",
         "1.0",
         "1.0",
         "0.0",
         "1.0"
        ],
        [
         "6754",
         "2775-SEFEE",
         "2020-02-01 00:00:00",
         "No",
         "Two year",
         "1",
         "Bank transfer (automatic)",
         "61.9",
         " ",
         "Male",
         "0",
         "0",
         "1",
         "DSL",
         "1.0",
         "1.0",
         "0.0",
         "1.0",
         "0.0",
         "0.0",
         "1.0"
        ]
       ],
       "shape": {
        "columns": 20,
        "rows": 11
       }
      },
      "text/html": [
       "<div>\n",
       "<style scoped>\n",
       "    .dataframe tbody tr th:only-of-type {\n",
       "        vertical-align: middle;\n",
       "    }\n",
       "\n",
       "    .dataframe tbody tr th {\n",
       "        vertical-align: top;\n",
       "    }\n",
       "\n",
       "    .dataframe thead th {\n",
       "        text-align: right;\n",
       "    }\n",
       "</style>\n",
       "<table border=\"1\" class=\"dataframe\">\n",
       "  <thead>\n",
       "    <tr style=\"text-align: right;\">\n",
       "      <th></th>\n",
       "      <th>customerID</th>\n",
       "      <th>BeginDate</th>\n",
       "      <th>EndDate</th>\n",
       "      <th>Type</th>\n",
       "      <th>PaperlessBilling</th>\n",
       "      <th>PaymentMethod</th>\n",
       "      <th>MonthlyCharges</th>\n",
       "      <th>TotalCharges</th>\n",
       "      <th>gender</th>\n",
       "      <th>SeniorCitizen</th>\n",
       "      <th>Partner</th>\n",
       "      <th>Dependents</th>\n",
       "      <th>InternetService</th>\n",
       "      <th>OnlineSecurity</th>\n",
       "      <th>OnlineBackup</th>\n",
       "      <th>DeviceProtection</th>\n",
       "      <th>TechSupport</th>\n",
       "      <th>StreamingTV</th>\n",
       "      <th>StreamingMovies</th>\n",
       "      <th>MultipleLines</th>\n",
       "    </tr>\n",
       "  </thead>\n",
       "  <tbody>\n",
       "    <tr>\n",
       "      <th>488</th>\n",
       "      <td>4472-LVYGI</td>\n",
       "      <td>2020-02-01</td>\n",
       "      <td>No</td>\n",
       "      <td>Two year</td>\n",
       "      <td>1</td>\n",
       "      <td>Bank transfer (automatic)</td>\n",
       "      <td>52.55</td>\n",
       "      <td></td>\n",
       "      <td>Female</td>\n",
       "      <td>0</td>\n",
       "      <td>1</td>\n",
       "      <td>1</td>\n",
       "      <td>DSL</td>\n",
       "      <td>1.0</td>\n",
       "      <td>0.0</td>\n",
       "      <td>1.0</td>\n",
       "      <td>1.0</td>\n",
       "      <td>1.0</td>\n",
       "      <td>0.0</td>\n",
       "      <td>0.0</td>\n",
       "    </tr>\n",
       "    <tr>\n",
       "      <th>753</th>\n",
       "      <td>3115-CZMZD</td>\n",
       "      <td>2020-02-01</td>\n",
       "      <td>No</td>\n",
       "      <td>Two year</td>\n",
       "      <td>0</td>\n",
       "      <td>Mailed check</td>\n",
       "      <td>20.25</td>\n",
       "      <td></td>\n",
       "      <td>Male</td>\n",
       "      <td>0</td>\n",
       "      <td>0</td>\n",
       "      <td>1</td>\n",
       "      <td>NaN</td>\n",
       "      <td>0.0</td>\n",
       "      <td>0.0</td>\n",
       "      <td>0.0</td>\n",
       "      <td>0.0</td>\n",
       "      <td>0.0</td>\n",
       "      <td>0.0</td>\n",
       "      <td>0.0</td>\n",
       "    </tr>\n",
       "    <tr>\n",
       "      <th>936</th>\n",
       "      <td>5709-LVOEQ</td>\n",
       "      <td>2020-02-01</td>\n",
       "      <td>No</td>\n",
       "      <td>Two year</td>\n",
       "      <td>0</td>\n",
       "      <td>Mailed check</td>\n",
       "      <td>80.85</td>\n",
       "      <td></td>\n",
       "      <td>Female</td>\n",
       "      <td>0</td>\n",
       "      <td>1</td>\n",
       "      <td>1</td>\n",
       "      <td>DSL</td>\n",
       "      <td>1.0</td>\n",
       "      <td>1.0</td>\n",
       "      <td>1.0</td>\n",
       "      <td>0.0</td>\n",
       "      <td>1.0</td>\n",
       "      <td>1.0</td>\n",
       "      <td>0.0</td>\n",
       "    </tr>\n",
       "    <tr>\n",
       "      <th>1082</th>\n",
       "      <td>4367-NUYAO</td>\n",
       "      <td>2020-02-01</td>\n",
       "      <td>No</td>\n",
       "      <td>Two year</td>\n",
       "      <td>0</td>\n",
       "      <td>Mailed check</td>\n",
       "      <td>25.75</td>\n",
       "      <td></td>\n",
       "      <td>Male</td>\n",
       "      <td>0</td>\n",
       "      <td>1</td>\n",
       "      <td>1</td>\n",
       "      <td>NaN</td>\n",
       "      <td>0.0</td>\n",
       "      <td>0.0</td>\n",
       "      <td>0.0</td>\n",
       "      <td>0.0</td>\n",
       "      <td>0.0</td>\n",
       "      <td>0.0</td>\n",
       "      <td>1.0</td>\n",
       "    </tr>\n",
       "    <tr>\n",
       "      <th>1340</th>\n",
       "      <td>1371-DWPAZ</td>\n",
       "      <td>2020-02-01</td>\n",
       "      <td>No</td>\n",
       "      <td>Two year</td>\n",
       "      <td>0</td>\n",
       "      <td>Credit card (automatic)</td>\n",
       "      <td>56.05</td>\n",
       "      <td></td>\n",
       "      <td>Female</td>\n",
       "      <td>0</td>\n",
       "      <td>1</td>\n",
       "      <td>1</td>\n",
       "      <td>DSL</td>\n",
       "      <td>1.0</td>\n",
       "      <td>1.0</td>\n",
       "      <td>1.0</td>\n",
       "      <td>1.0</td>\n",
       "      <td>1.0</td>\n",
       "      <td>0.0</td>\n",
       "      <td>0.0</td>\n",
       "    </tr>\n",
       "    <tr>\n",
       "      <th>3331</th>\n",
       "      <td>7644-OMVMY</td>\n",
       "      <td>2020-02-01</td>\n",
       "      <td>No</td>\n",
       "      <td>Two year</td>\n",
       "      <td>0</td>\n",
       "      <td>Mailed check</td>\n",
       "      <td>19.85</td>\n",
       "      <td></td>\n",
       "      <td>Male</td>\n",
       "      <td>0</td>\n",
       "      <td>1</td>\n",
       "      <td>1</td>\n",
       "      <td>NaN</td>\n",
       "      <td>0.0</td>\n",
       "      <td>0.0</td>\n",
       "      <td>0.0</td>\n",
       "      <td>0.0</td>\n",
       "      <td>0.0</td>\n",
       "      <td>0.0</td>\n",
       "      <td>0.0</td>\n",
       "    </tr>\n",
       "    <tr>\n",
       "      <th>3826</th>\n",
       "      <td>3213-VVOLG</td>\n",
       "      <td>2020-02-01</td>\n",
       "      <td>No</td>\n",
       "      <td>Two year</td>\n",
       "      <td>0</td>\n",
       "      <td>Mailed check</td>\n",
       "      <td>25.35</td>\n",
       "      <td></td>\n",
       "      <td>Male</td>\n",
       "      <td>0</td>\n",
       "      <td>1</td>\n",
       "      <td>1</td>\n",
       "      <td>NaN</td>\n",
       "      <td>0.0</td>\n",
       "      <td>0.0</td>\n",
       "      <td>0.0</td>\n",
       "      <td>0.0</td>\n",
       "      <td>0.0</td>\n",
       "      <td>0.0</td>\n",
       "      <td>1.0</td>\n",
       "    </tr>\n",
       "    <tr>\n",
       "      <th>4380</th>\n",
       "      <td>2520-SGTTA</td>\n",
       "      <td>2020-02-01</td>\n",
       "      <td>No</td>\n",
       "      <td>Two year</td>\n",
       "      <td>0</td>\n",
       "      <td>Mailed check</td>\n",
       "      <td>20.00</td>\n",
       "      <td></td>\n",
       "      <td>Female</td>\n",
       "      <td>0</td>\n",
       "      <td>1</td>\n",
       "      <td>1</td>\n",
       "      <td>NaN</td>\n",
       "      <td>0.0</td>\n",
       "      <td>0.0</td>\n",
       "      <td>0.0</td>\n",
       "      <td>0.0</td>\n",
       "      <td>0.0</td>\n",
       "      <td>0.0</td>\n",
       "      <td>0.0</td>\n",
       "    </tr>\n",
       "    <tr>\n",
       "      <th>5218</th>\n",
       "      <td>2923-ARZLG</td>\n",
       "      <td>2020-02-01</td>\n",
       "      <td>No</td>\n",
       "      <td>One year</td>\n",
       "      <td>1</td>\n",
       "      <td>Mailed check</td>\n",
       "      <td>19.70</td>\n",
       "      <td></td>\n",
       "      <td>Male</td>\n",
       "      <td>0</td>\n",
       "      <td>1</td>\n",
       "      <td>1</td>\n",
       "      <td>NaN</td>\n",
       "      <td>0.0</td>\n",
       "      <td>0.0</td>\n",
       "      <td>0.0</td>\n",
       "      <td>0.0</td>\n",
       "      <td>0.0</td>\n",
       "      <td>0.0</td>\n",
       "      <td>0.0</td>\n",
       "    </tr>\n",
       "    <tr>\n",
       "      <th>6670</th>\n",
       "      <td>4075-WKNIU</td>\n",
       "      <td>2020-02-01</td>\n",
       "      <td>No</td>\n",
       "      <td>Two year</td>\n",
       "      <td>0</td>\n",
       "      <td>Mailed check</td>\n",
       "      <td>73.35</td>\n",
       "      <td></td>\n",
       "      <td>Female</td>\n",
       "      <td>0</td>\n",
       "      <td>1</td>\n",
       "      <td>1</td>\n",
       "      <td>DSL</td>\n",
       "      <td>0.0</td>\n",
       "      <td>1.0</td>\n",
       "      <td>1.0</td>\n",
       "      <td>1.0</td>\n",
       "      <td>1.0</td>\n",
       "      <td>0.0</td>\n",
       "      <td>1.0</td>\n",
       "    </tr>\n",
       "    <tr>\n",
       "      <th>6754</th>\n",
       "      <td>2775-SEFEE</td>\n",
       "      <td>2020-02-01</td>\n",
       "      <td>No</td>\n",
       "      <td>Two year</td>\n",
       "      <td>1</td>\n",
       "      <td>Bank transfer (automatic)</td>\n",
       "      <td>61.90</td>\n",
       "      <td></td>\n",
       "      <td>Male</td>\n",
       "      <td>0</td>\n",
       "      <td>0</td>\n",
       "      <td>1</td>\n",
       "      <td>DSL</td>\n",
       "      <td>1.0</td>\n",
       "      <td>1.0</td>\n",
       "      <td>0.0</td>\n",
       "      <td>1.0</td>\n",
       "      <td>0.0</td>\n",
       "      <td>0.0</td>\n",
       "      <td>1.0</td>\n",
       "    </tr>\n",
       "  </tbody>\n",
       "</table>\n",
       "</div>"
      ],
      "text/plain": [
       "      customerID  BeginDate EndDate      Type  PaperlessBilling  \\\n",
       "488   4472-LVYGI 2020-02-01      No  Two year                 1   \n",
       "753   3115-CZMZD 2020-02-01      No  Two year                 0   \n",
       "936   5709-LVOEQ 2020-02-01      No  Two year                 0   \n",
       "1082  4367-NUYAO 2020-02-01      No  Two year                 0   \n",
       "1340  1371-DWPAZ 2020-02-01      No  Two year                 0   \n",
       "3331  7644-OMVMY 2020-02-01      No  Two year                 0   \n",
       "3826  3213-VVOLG 2020-02-01      No  Two year                 0   \n",
       "4380  2520-SGTTA 2020-02-01      No  Two year                 0   \n",
       "5218  2923-ARZLG 2020-02-01      No  One year                 1   \n",
       "6670  4075-WKNIU 2020-02-01      No  Two year                 0   \n",
       "6754  2775-SEFEE 2020-02-01      No  Two year                 1   \n",
       "\n",
       "                  PaymentMethod  MonthlyCharges TotalCharges  gender  \\\n",
       "488   Bank transfer (automatic)           52.55               Female   \n",
       "753                Mailed check           20.25                 Male   \n",
       "936                Mailed check           80.85               Female   \n",
       "1082               Mailed check           25.75                 Male   \n",
       "1340    Credit card (automatic)           56.05               Female   \n",
       "3331               Mailed check           19.85                 Male   \n",
       "3826               Mailed check           25.35                 Male   \n",
       "4380               Mailed check           20.00               Female   \n",
       "5218               Mailed check           19.70                 Male   \n",
       "6670               Mailed check           73.35               Female   \n",
       "6754  Bank transfer (automatic)           61.90                 Male   \n",
       "\n",
       "      SeniorCitizen  Partner  Dependents InternetService  OnlineSecurity  \\\n",
       "488               0        1           1             DSL             1.0   \n",
       "753               0        0           1             NaN             0.0   \n",
       "936               0        1           1             DSL             1.0   \n",
       "1082              0        1           1             NaN             0.0   \n",
       "1340              0        1           1             DSL             1.0   \n",
       "3331              0        1           1             NaN             0.0   \n",
       "3826              0        1           1             NaN             0.0   \n",
       "4380              0        1           1             NaN             0.0   \n",
       "5218              0        1           1             NaN             0.0   \n",
       "6670              0        1           1             DSL             0.0   \n",
       "6754              0        0           1             DSL             1.0   \n",
       "\n",
       "      OnlineBackup  DeviceProtection  TechSupport  StreamingTV  \\\n",
       "488            0.0               1.0          1.0          1.0   \n",
       "753            0.0               0.0          0.0          0.0   \n",
       "936            1.0               1.0          0.0          1.0   \n",
       "1082           0.0               0.0          0.0          0.0   \n",
       "1340           1.0               1.0          1.0          1.0   \n",
       "3331           0.0               0.0          0.0          0.0   \n",
       "3826           0.0               0.0          0.0          0.0   \n",
       "4380           0.0               0.0          0.0          0.0   \n",
       "5218           0.0               0.0          0.0          0.0   \n",
       "6670           1.0               1.0          1.0          1.0   \n",
       "6754           1.0               0.0          1.0          0.0   \n",
       "\n",
       "      StreamingMovies  MultipleLines  \n",
       "488               0.0            0.0  \n",
       "753               0.0            0.0  \n",
       "936               1.0            0.0  \n",
       "1082              0.0            1.0  \n",
       "1340              0.0            0.0  \n",
       "3331              0.0            0.0  \n",
       "3826              0.0            1.0  \n",
       "4380              0.0            0.0  \n",
       "5218              0.0            0.0  \n",
       "6670              0.0            1.0  \n",
       "6754              0.0            1.0  "
      ]
     },
     "execution_count": 14,
     "metadata": {},
     "output_type": "execute_result"
    }
   ],
   "source": [
    "#Existe un pequeño error con algunas filas de la columna TotalCharges, visualicemos.\n",
    "df_merged[df_merged['TotalCharges'] == ' ']"
   ]
  },
  {
   "cell_type": "markdown",
   "metadata": {},
   "source": [
    "La representación de valores nulos en la columna ``TotalCharges`` no es significativa, supone solamente 11 filas las cuales fácilmente podemos despreciar eliminandolas. \n",
    "\n",
    "Es interesante mencionar también que hallamos valores nulos en columnas asociadas con los servicios secundarios, esto nos hace pensar que estos clientes, en general, no requieren de todos los servicios. Lo mejor ahora es despreciar estos valores."
   ]
  },
  {
   "cell_type": "code",
   "execution_count": 15,
   "metadata": {},
   "outputs": [],
   "source": [
    "#Vamos a eliminar estas columnas que no tienen información y realizar la nueva conversión de tipo de dato\n",
    "df_merged = df_merged[df_merged['TotalCharges'] != ' ']\n",
    "df_merged['TotalCharges'] = df_merged['TotalCharges'].astype(float)"
   ]
  },
  {
   "cell_type": "code",
   "execution_count": 16,
   "metadata": {},
   "outputs": [
    {
     "name": "stdout",
     "output_type": "stream",
     "text": [
      "<class 'pandas.core.frame.DataFrame'>\n",
      "Index: 7032 entries, 0 to 7042\n",
      "Data columns (total 20 columns):\n",
      " #   Column            Non-Null Count  Dtype         \n",
      "---  ------            --------------  -----         \n",
      " 0   customerID        7032 non-null   object        \n",
      " 1   BeginDate         7032 non-null   datetime64[ns]\n",
      " 2   EndDate           7032 non-null   object        \n",
      " 3   Type              7032 non-null   object        \n",
      " 4   PaperlessBilling  7032 non-null   int64         \n",
      " 5   PaymentMethod     7032 non-null   object        \n",
      " 6   MonthlyCharges    7032 non-null   float64       \n",
      " 7   TotalCharges      7032 non-null   float64       \n",
      " 8   gender            7032 non-null   object        \n",
      " 9   SeniorCitizen     7032 non-null   int64         \n",
      " 10  Partner           7032 non-null   int64         \n",
      " 11  Dependents        7032 non-null   int64         \n",
      " 12  InternetService   5512 non-null   object        \n",
      " 13  OnlineSecurity    7032 non-null   float64       \n",
      " 14  OnlineBackup      7032 non-null   float64       \n",
      " 15  DeviceProtection  7032 non-null   float64       \n",
      " 16  TechSupport       7032 non-null   float64       \n",
      " 17  StreamingTV       7032 non-null   float64       \n",
      " 18  StreamingMovies   7032 non-null   float64       \n",
      " 19  MultipleLines     7032 non-null   float64       \n",
      "dtypes: datetime64[ns](1), float64(9), int64(4), object(6)\n",
      "memory usage: 1.1+ MB\n"
     ]
    }
   ],
   "source": [
    "df_merged.info()"
   ]
  },
  {
   "cell_type": "markdown",
   "metadata": {},
   "source": [
    "Ya no contamos con valores nulos en la mayoría de nuestras columnas, sin embargo, aún tenemos la columna ``InternetService`` que podemos revisar adelante. Esta columna de momento es considerada con categórica."
   ]
  },
  {
   "cell_type": "markdown",
   "metadata": {},
   "source": [
    "<div class=\"alert alert-block alert-success\">\n",
    "<b>Comentario del revisor (1ra Iteración)</b> <a class=“tocSkip”></a>\n",
    "\n",
    "Ariel fue una buena decisión eliminar las filas con los valores faltanes, al ser una proporción tan pequeña comparada con el total de los datos, es la mejor estrategía.\n",
    "\n",
    "</div>"
   ]
  },
  {
   "cell_type": "markdown",
   "metadata": {},
   "source": [
    "## 2. EDA "
   ]
  },
  {
   "cell_type": "markdown",
   "metadata": {},
   "source": [
    "Vamos a realizar una inspección de las columnas categóricas que están contenidas en nuestro dataset. \n",
    "Estas columnas son ``PaymentMethod``, ``InternetService`` y ``Type``, veamos cuáles son los valores que están contenidos en estas columnas. ``Gender`` también entra en esta categoría, sim embargo, se asume que solo tenemos ``Male`` y  ``Female``."
   ]
  },
  {
   "cell_type": "code",
   "execution_count": 17,
   "metadata": {},
   "outputs": [
    {
     "name": "stdout",
     "output_type": "stream",
     "text": [
      "PaymentMethod\n",
      "['Electronic check' 'Mailed check' 'Bank transfer (automatic)'\n",
      " 'Credit card (automatic)']\n",
      "\n",
      "InternetService\n",
      "['DSL' 'Fiber optic' nan]\n",
      "\n",
      "Type\n",
      "['Month-to-month' 'One year' 'Two year']\n",
      "\n"
     ]
    }
   ],
   "source": [
    "#Declaremos las columnas de interés\n",
    "cathegorical_cols = ['PaymentMethod', 'InternetService', 'Type']\n",
    "\n",
    "#Bucle para ver sus datos\n",
    "for col in cathegorical_cols:\n",
    "    print(col)\n",
    "    print(df_merged[col].unique())\n",
    "    print()"
   ]
  },
  {
   "cell_type": "markdown",
   "metadata": {},
   "source": [
    "Por el momento, solo voy a imputar los valores nulos de la columna ``InternetService`` con None, así podemos realizar una distinción de quienes cuentan con el servicio."
   ]
  },
  {
   "cell_type": "code",
   "execution_count": 18,
   "metadata": {},
   "outputs": [
    {
     "name": "stdout",
     "output_type": "stream",
     "text": [
      "<class 'pandas.core.frame.DataFrame'>\n",
      "Index: 7032 entries, 0 to 7042\n",
      "Data columns (total 20 columns):\n",
      " #   Column            Non-Null Count  Dtype         \n",
      "---  ------            --------------  -----         \n",
      " 0   customerID        7032 non-null   object        \n",
      " 1   BeginDate         7032 non-null   datetime64[ns]\n",
      " 2   EndDate           7032 non-null   object        \n",
      " 3   Type              7032 non-null   object        \n",
      " 4   PaperlessBilling  7032 non-null   int64         \n",
      " 5   PaymentMethod     7032 non-null   object        \n",
      " 6   MonthlyCharges    7032 non-null   float64       \n",
      " 7   TotalCharges      7032 non-null   float64       \n",
      " 8   gender            7032 non-null   object        \n",
      " 9   SeniorCitizen     7032 non-null   int64         \n",
      " 10  Partner           7032 non-null   int64         \n",
      " 11  Dependents        7032 non-null   int64         \n",
      " 12  InternetService   7032 non-null   object        \n",
      " 13  OnlineSecurity    7032 non-null   float64       \n",
      " 14  OnlineBackup      7032 non-null   float64       \n",
      " 15  DeviceProtection  7032 non-null   float64       \n",
      " 16  TechSupport       7032 non-null   float64       \n",
      " 17  StreamingTV       7032 non-null   float64       \n",
      " 18  StreamingMovies   7032 non-null   float64       \n",
      " 19  MultipleLines     7032 non-null   float64       \n",
      "dtypes: datetime64[ns](1), float64(9), int64(4), object(6)\n",
      "memory usage: 1.1+ MB\n"
     ]
    }
   ],
   "source": [
    "#Imputar valores nulos en la columna InternetService\n",
    "df_merged['InternetService'] = df_merged['InternetService'].fillna('None')\n",
    "\n",
    "#Veamos una vez más la información general de nuestro dataset\n",
    "df_merged.info()"
   ]
  },
  {
   "cell_type": "markdown",
   "metadata": {},
   "source": [
    "Ahora ya contamos con un dataframe ordenado en cuanto a valores nulos y tipos de datos. \n",
    "Ahora me gustaría poder observar cómo es la distribución de fechas, si tiene un orden o no."
   ]
  },
  {
   "cell_type": "code",
   "execution_count": 19,
   "metadata": {},
   "outputs": [
    {
     "name": "stdout",
     "output_type": "stream",
     "text": [
      "False\n"
     ]
    }
   ],
   "source": [
    "print(df_merged['BeginDate'].is_monotonic_increasing)"
   ]
  },
  {
   "cell_type": "markdown",
   "metadata": {},
   "source": [
    "Bien, ahora lo importante es tratar de tener en orden cronológico nuestra columna para que tenga coherencia temporal y podamos ver su comportamiento."
   ]
  },
  {
   "cell_type": "code",
   "execution_count": 20,
   "metadata": {},
   "outputs": [
    {
     "data": {
      "text/plain": [
       "<DatetimeArray>\n",
       "['2013-10-01 00:00:00', '2013-11-01 00:00:00', '2013-12-01 00:00:00',\n",
       " '2014-01-01 00:00:00', '2014-02-01 00:00:00', '2014-03-01 00:00:00',\n",
       " '2014-04-01 00:00:00', '2014-05-01 00:00:00', '2014-06-01 00:00:00',\n",
       " '2014-07-01 00:00:00', '2014-08-01 00:00:00', '2014-09-01 00:00:00',\n",
       " '2014-10-01 00:00:00', '2014-11-01 00:00:00', '2014-12-01 00:00:00',\n",
       " '2015-01-01 00:00:00', '2015-02-01 00:00:00', '2015-03-01 00:00:00',\n",
       " '2015-04-01 00:00:00', '2015-05-01 00:00:00', '2015-06-01 00:00:00',\n",
       " '2015-07-01 00:00:00', '2015-08-01 00:00:00', '2015-09-01 00:00:00',\n",
       " '2015-10-01 00:00:00', '2015-11-01 00:00:00', '2015-12-01 00:00:00',\n",
       " '2016-01-01 00:00:00', '2016-02-01 00:00:00', '2016-03-01 00:00:00',\n",
       " '2016-04-01 00:00:00', '2016-05-01 00:00:00', '2016-06-01 00:00:00',\n",
       " '2016-07-01 00:00:00', '2016-08-01 00:00:00', '2016-09-01 00:00:00',\n",
       " '2016-10-01 00:00:00', '2016-11-01 00:00:00', '2016-12-01 00:00:00',\n",
       " '2017-01-01 00:00:00', '2017-02-01 00:00:00', '2017-03-01 00:00:00',\n",
       " '2017-04-01 00:00:00', '2017-05-01 00:00:00', '2017-06-01 00:00:00',\n",
       " '2017-07-01 00:00:00', '2017-08-01 00:00:00', '2017-09-01 00:00:00',\n",
       " '2017-10-01 00:00:00', '2017-11-01 00:00:00', '2017-12-01 00:00:00',\n",
       " '2018-01-01 00:00:00', '2018-02-01 00:00:00', '2018-03-01 00:00:00',\n",
       " '2018-04-01 00:00:00', '2018-05-01 00:00:00', '2018-06-01 00:00:00',\n",
       " '2018-07-01 00:00:00', '2018-08-01 00:00:00', '2018-09-01 00:00:00',\n",
       " '2018-10-01 00:00:00', '2018-11-01 00:00:00', '2018-12-01 00:00:00',\n",
       " '2019-01-01 00:00:00', '2019-02-01 00:00:00', '2019-03-01 00:00:00',\n",
       " '2019-04-01 00:00:00', '2019-05-01 00:00:00', '2019-06-01 00:00:00',\n",
       " '2019-07-01 00:00:00', '2019-08-01 00:00:00', '2019-09-01 00:00:00',\n",
       " '2019-10-01 00:00:00', '2019-11-01 00:00:00', '2019-12-01 00:00:00',\n",
       " '2020-01-01 00:00:00']\n",
       "Length: 76, dtype: datetime64[ns]"
      ]
     },
     "execution_count": 20,
     "metadata": {},
     "output_type": "execute_result"
    }
   ],
   "source": [
    "#Vamos a ordernar esta columna para que tenga coherencia temporal\n",
    "df_merged = df_merged.sort_values('BeginDate')\n",
    "df_merged['BeginDate'].unique()"
   ]
  },
  {
   "cell_type": "code",
   "execution_count": 21,
   "metadata": {},
   "outputs": [
    {
     "data": {
      "text/plain": [
       "<Axes: title={'center': 'Clientes por año'}, xlabel='BeginDate'>"
      ]
     },
     "execution_count": 21,
     "metadata": {},
     "output_type": "execute_result"
    },
    {
     "data": {
      "image/png": "[encoded data removed]",
      "text/plain": [
       "<Figure size 1000x600 with 1 Axes>"
      ]
     },
     "metadata": {},
     "output_type": "display_data"
    }
   ],
   "source": [
    "#Grafiquemos por año cómo es el comportamiento de esto\n",
    "data_year = df_merged['BeginDate'].dt.year.value_counts().sort_index()\n",
    "data_year.plot(figsize =  (10, 6), title = 'Clientes por año')"
   ]
  },
  {
   "cell_type": "markdown",
   "metadata": {},
   "source": [
    "Uno de los principales insights que podemos notar es que tenemos dos picos respectivamente en los años 2014 y 2019, esto se explica en el sentido de que muchos cientes contrataron un plan, posiblemente los picos se deban también a contextos promocionales que se dieron en su momentos y los clientes aprovecharon."
   ]
  },
  {
   "cell_type": "markdown",
   "metadata": {},
   "source": [
    "<div class=\"alert alert-block alert-success\">\n",
    "<b>Comentario del revisor (1ra Iteración)</b> <a class=“tocSkip”></a>\n",
    "\n",
    "Correcto Ariel, es clave evaluar el comportamiento de los usuarios. Tu hipótesis parecen razonables en el contexto del caso de estudio,\n",
    "\n",
    "</div>"
   ]
  },
  {
   "cell_type": "code",
   "execution_count": 22,
   "metadata": {},
   "outputs": [
    {
     "data": {
      "text/plain": [
       "count                             7032\n",
       "mean     2017-04-28 23:14:44.641638400\n",
       "min                2013-10-01 00:00:00\n",
       "25%                2015-06-01 00:00:00\n",
       "50%                2017-09-01 00:00:00\n",
       "75%                2019-04-01 00:00:00\n",
       "max                2020-01-01 00:00:00\n",
       "Name: BeginDate, dtype: object"
      ]
     },
     "execution_count": 22,
     "metadata": {},
     "output_type": "execute_result"
    }
   ],
   "source": [
    "df_merged['BeginDate'].describe()"
   ]
  },
  {
   "cell_type": "code",
   "execution_count": 23,
   "metadata": {},
   "outputs": [],
   "source": [
    "#Ahora, dado que previamente tuve algunos errores al momento de entrenamiento con BeginDate\n",
    "#Decido asignarla como índice de mi dataset\n",
    "df_merged = df_merged.set_index('BeginDate')"
   ]
  },
  {
   "cell_type": "markdown",
   "metadata": {},
   "source": [
    "La intención de revisar la información general de la columna ```BeginDate``, es para revisar qué fechas están contenidas.\n",
    "\n",
    "Tal es el caso de que la primera fecha registrada es del 10 de enero de 2013, mientras que la última fecha registrada fue de día 1 de enero del 2020."
   ]
  },
  {
   "cell_type": "markdown",
   "metadata": {},
   "source": [
    "Ahora revisemos nuestra columna objetivo o target, ``EndDate``."
   ]
  },
  {
   "cell_type": "code",
   "execution_count": 24,
   "metadata": {},
   "outputs": [
    {
     "data": {
      "text/plain": [
       "EndDate\n",
       "No                     5163\n",
       "2019-11-01 00:00:00     485\n",
       "2019-12-01 00:00:00     466\n",
       "2020-01-01 00:00:00     460\n",
       "2019-10-01 00:00:00     458\n",
       "Name: count, dtype: int64"
      ]
     },
     "execution_count": 24,
     "metadata": {},
     "output_type": "execute_result"
    }
   ],
   "source": [
    "df_merged['EndDate'].value_counts()"
   ]
  },
  {
   "cell_type": "markdown",
   "metadata": {},
   "source": [
    "Para propósitos del presente proyecto, es más conveniente delimitar nuestro objetivo o nuestra característica objetivo en un formato binario, de esta forma tendríamos que ``True`` será 1 y ``False`` será 0.\n",
    "\n",
    "Para propuesta, voy a crear una nueva columna para que solamente tenga valores booleanos.\n"
   ]
  },
  {
   "cell_type": "code",
   "execution_count": 25,
   "metadata": {},
   "outputs": [
    {
     "data": {
      "text/plain": [
       "Target\n",
       "0    5163\n",
       "1    1869\n",
       "Name: count, dtype: int64"
      ]
     },
     "execution_count": 25,
     "metadata": {},
     "output_type": "execute_result"
    }
   ],
   "source": [
    "df_merged['Target'] = (df_merged['EndDate'] != 'No').astype(int)\n",
    "#Visualicemos esta nueva columna\n",
    "df_merged['Target'].value_counts()"
   ]
  },
  {
   "cell_type": "markdown",
   "metadata": {},
   "source": [
    "Ahora ya tenemos mejor acotada y diferenciada la información."
   ]
  },
  {
   "cell_type": "markdown",
   "metadata": {},
   "source": [
    "<div class=\"alert alert-block alert-success\">\n",
    "<b>Comentario del revisor (1ra Iteración)</b> <a class=“tocSkip”></a>\n",
    "\n",
    "Buen trabajo, acá podemos notar un desequilibrio de las clases que requeriran estrategías para contrarestarlo\n",
    "\n",
    "</div>"
   ]
  },
  {
   "cell_type": "markdown",
   "metadata": {},
   "source": [
    "Considero que es conviente poder revisar las correlaciones entre las columnas."
   ]
  },
  {
   "cell_type": "code",
   "execution_count": 26,
   "metadata": {},
   "outputs": [
    {
     "data": {
      "text/plain": [
       "<Axes: >"
      ]
     },
     "execution_count": 26,
     "metadata": {},
     "output_type": "execute_result"
    },
    {
     "data": {
      "image/png": "[encoded data removed]",
      "text/plain": [
       "<Figure size 1000x600 with 2 Axes>"
      ]
     },
     "metadata": {},
     "output_type": "display_data"
    }
   ],
   "source": [
    "#Correlación entre la variblae objetivo y las demás\n",
    "#Realizaré la distinción de columnas categoricas y numéricas\n",
    "numeric_columns = df_merged.select_dtypes(include = ['number'])\n",
    "corr_target = numeric_columns.corr()\n",
    "plt.figure(figsize = (10, 6))\n",
    "sns.heatmap(corr_target, annot = True, cmap = 'coolwarm', vmin = -1, vmax = 1)"
   ]
  },
  {
   "cell_type": "markdown",
   "metadata": {},
   "source": [
    "Primero hagamos un enfoque en las columnas/características que tienen una correlación en nuestra columna objetivo ``Target``, las columnas que tienen una correlación débil son:\n",
    "- ``SeniorCitizen``\n",
    "- ``MonthlyCharges``\n",
    "- ``Paperless Billing``\n",
    "\n",
    "Por otro lado, también vemos una correlación fuerte en columnas asociadas a los servicios secundarios ofrecidos por la compañia prestadora de los servicios principales en sentido de los cargos mensuales y cargos totales."
   ]
  },
  {
   "cell_type": "code",
   "execution_count": 27,
   "metadata": {},
   "outputs": [
    {
     "data": {
      "image/png": "[encoded data removed]",
      "text/plain": [
       "<Figure size 640x480 with 1 Axes>"
      ]
     },
     "metadata": {},
     "output_type": "display_data"
    }
   ],
   "source": [
    "sns.histplot(df_merged['MonthlyCharges'], kde=True)\n",
    "plt.title('Histograma de MonthlyCharges')\n",
    "plt.show()"
   ]
  },
  {
   "cell_type": "code",
   "execution_count": 28,
   "metadata": {},
   "outputs": [
    {
     "data": {
      "text/plain": [
       "count    7032.000000\n",
       "mean       64.798208\n",
       "std        30.085974\n",
       "min        18.250000\n",
       "25%        35.587500\n",
       "50%        70.350000\n",
       "75%        89.862500\n",
       "max       118.750000\n",
       "Name: MonthlyCharges, dtype: float64"
      ]
     },
     "execution_count": 28,
     "metadata": {},
     "output_type": "execute_result"
    }
   ],
   "source": [
    "df_merged['MonthlyCharges'].describe()"
   ]
  },
  {
   "cell_type": "code",
   "execution_count": 29,
   "metadata": {},
   "outputs": [
    {
     "data": {
      "image/png": "[encoded data removed]",
      "text/plain": [
       "<Figure size 640x480 with 1 Axes>"
      ]
     },
     "metadata": {},
     "output_type": "display_data"
    }
   ],
   "source": [
    "sns.histplot(df_merged['TotalCharges'], kde=True)\n",
    "plt.title('Histograma de MonthlyCharges')\n",
    "plt.show()"
   ]
  },
  {
   "cell_type": "code",
   "execution_count": 30,
   "metadata": {},
   "outputs": [
    {
     "data": {
      "text/plain": [
       "count    7032.000000\n",
       "mean     2283.300441\n",
       "std      2266.771362\n",
       "min        18.800000\n",
       "25%       401.450000\n",
       "50%      1397.475000\n",
       "75%      3794.737500\n",
       "max      8684.800000\n",
       "Name: TotalCharges, dtype: float64"
      ]
     },
     "execution_count": 30,
     "metadata": {},
     "output_type": "execute_result"
    }
   ],
   "source": [
    "df_merged['TotalCharges'].describe()"
   ]
  },
  {
   "cell_type": "markdown",
   "metadata": {},
   "source": [
    "<div class=\"alert alert-block alert-warning\">\n",
    "<b>Comentario del revisor (1ra Iteración)</b> <a class=“tocSkip”></a>\n",
    "\n",
    "Las gráficas que has obtenido son correctas, pero es crucial acompañarlas con tu análisis y observaciones. Esto añade valor significativo a la información presentada y evita que solo sean datos sin contexto. Desarrollar esta capacidad de interpretación es esencial cuanto estamos trabajando con datos. \n",
    "\n",
    "</div>"
   ]
  },
  {
   "cell_type": "markdown",
   "metadata": {},
   "source": [
    "## Preguntas Aclaratorias"
   ]
  },
  {
   "cell_type": "markdown",
   "metadata": {},
   "source": [
    "1.- Durante mi análisis exploratorio de datos me he topado con dos columnas que cuentan con outliers, de acuerdo a la tarea de clasificación, ¿me conviene realizar una normalización o una estandarización de datos para que los modelos propuestos no tengan algún tipo de sesgo en la predicción por estos valores?\n",
    "\n",
    "**La estandarización es un paso clave y muy avitual en el desarrollo de modelos predictivos esto le brinda robustez al modelo y suele mejorar el rendimiento, sobretodo cuando se trata de clasificación. Ahora buien, respecto a los outliers, su estudio es calve, no siempre es necesario eliminarlos, ya que el comportamiento \"anormal\" hace parte de la naturaleza de los mismos datos. Una practica común en este sentido es evaluar los modelos con y sin outliers. Acá te compato un [árticulo](https://www.analyticsvidhya.com/blog/2021/05/why-you-shouldnt-just-delete-outliers/) que habla sobre esto**\n",
    "\n",
    "2.- De acuerdo a la información presentada en los datasets, ¿me conviene realizar una reducción de variables/columnas?\n",
    "\n",
    "**Esta es una estrategía muy buena, pero tu mismo debes establecer si es necesario. Puedes implementarla cuando ya tengas el modelo final para reducir su complejidad e identificar las características que más influyen en la clasificación con el fin de establecer segmentnaciones claves para futuros análisis. Te comparto una de las técnicas más populares: [Recursive Feature Elimination](https://machinelearningmastery.com/rfe-feature-selection-in-python/)**\n"
   ]
  },
  {
   "cell_type": "markdown",
   "metadata": {},
   "source": [
    "## Próximos pasos"
   ]
  },
  {
   "cell_type": "markdown",
   "metadata": {},
   "source": [
    "El flujo de trabajo propuesto es el siguiente:\n",
    "\n",
    "1. Vista previa de los datos, preprocesamiento de datos.\n",
    "\n",
    "2. EDA, análisis exploratorio de datos, verificar la información de nuestros datasets, buscar correlaciones entre columnas, verificar tipos de datos correctos en cada columna y enriquecimiento de datos (si se requiere).\n",
    "\n",
    "3. Propuesta y creación de modelos de ML.\n",
    "- Se revisarán los modelos de clasificación que puedan brindarnos mejores insights en cuanto a métricas objetivo se refiere. Los modelos principales van desde la Regresión Logística, Árbol de Decisión de Clasificación, Bosque Aleatorio de Decisión y otro que involucre potenciación de gradiente, posiblemente CatBoost. Usaremos la herramienta _GridSearchCV_ para poder aplicar diferentes rangos de hiperparámetros en nuestros modelos.\n",
    "\n",
    "4. Entrenamiento y evaluación de modelos.\n",
    "- Es posible que en este paso revisaremos qué hiperparámetros podemos cambiar y/o optimizar para mejorar, si es el caso, de las métricas objetivo. Metodología de prueba y error de acuerdo al cambio de los hiperparámetros.\n",
    "\n",
    "5. Comparación respectiva de los modelos.\n",
    "- Haremos una comparación entre los modelos creados y propuestos respecto a las métricas _ROC - AUC_ y _accuracy_ y elegir el mejor modelo entre los mismos. Crearemos un tabla comparativa a manera de resumen.\n"
   ]
  },
  {
   "cell_type": "markdown",
   "metadata": {},
   "source": [
    "## 2.1 Seguimiento del caso"
   ]
  },
  {
   "cell_type": "markdown",
   "metadata": {},
   "source": [
    "De momento, podemos mencionar que tenemos un par de columnas que cuentan con una escala u orden de magnitud diferente respecto a las demas columas y/o carcaterísticas presentes en el dataset.\n",
    "\n",
    "Si bien es cierto que no son ordenes de magnitud o escalas muy grandes, al momento de revisar su distribución estas no tienen una distribución normal. Por lo anterior, y debido al impacto que se tiene, se decide _normalizar_ estas columnas. \n",
    "\n",
    "Para lo anterior, será conveniente utilizar _MinMaxScaler_ de la librería _scikit-learn_ para realizar este procedimiento. \n",
    "\n",
    "Una de las principales propuestas para este caso es también revisar la influencia de estas columnas en las métricas al momento de realizar nuestro entrenamiento. Sin embargo, antes de seguir, se tiene pensado revisar la columna objetivo _target_ para ver si están balanceadas las clases y no tener una medición de métricas no adecuada. "
   ]
  },
  {
   "cell_type": "markdown",
   "metadata": {},
   "source": [
    "## 2.1.1 Seguimiento EDA"
   ]
  },
  {
   "cell_type": "code",
   "execution_count": 31,
   "metadata": {},
   "outputs": [
    {
     "data": {
      "text/plain": [
       "Target\n",
       "0    5163\n",
       "1    1869\n",
       "Name: count, dtype: int64"
      ]
     },
     "execution_count": 31,
     "metadata": {},
     "output_type": "execute_result"
    }
   ],
   "source": [
    "#Revisemos de forma rápida la distribución de nuestra columna target\n",
    "df_merged['Target'].value_counts()"
   ]
  },
  {
   "cell_type": "markdown",
   "metadata": {},
   "source": [
    "Dado que tenemos clases desbalanceadas, lo más conveniente es tomar acción en esto y tomar en cuenta lo siguiente para tomar una decisión en un balance de clases:\n",
    "\n",
    "1. Vamos a aplicar un sobremuestreo en la clase minotitaria.\n",
    "\n",
    "2. Podriamos seguir trabajando con nuestros modelos propuestos de clasficación ya que estos contienen un argumento denominado ``class_weight`` para poder ajustar las clases sin ningún tipo de intervención personal, como es el caso del sobremuestreo.\n",
    "\n",
    "\n",
    "Vamos a realizar el movimiento deseado cuando tengamos acotado nuestro ``target`` y ``features``, además para evitar la fuga de datos (_data leakage_) vamos a realizar el movimiento después de realizar la división de nuestro set de entrenamiento y prueba."
   ]
  },
  {
   "cell_type": "markdown",
   "metadata": {},
   "source": [
    "## 2.2.1 Correlación de nuestra columna target con las variables/características categóricas."
   ]
  },
  {
   "cell_type": "markdown",
   "metadata": {},
   "source": [
    "Para este caso voy a realizar un visualización para que podamos apreciar cómo es la influencia o distribución entre nuestra columna objetivo y las columnas categóricas presentes en nuestro dataset.\n",
    "\n",
    "Para esto, vamos a delimitar estas columnas y posteriormente aplicar el bucle en las mismas para la representación. \n",
    "\n",
    "Las columnas son: ``PaymentMethod``, ``gender``, ``InternetService``, ``Type``."
   ]
  },
  {
   "cell_type": "code",
   "execution_count": 32,
   "metadata": {},
   "outputs": [
    {
     "name": "stderr",
     "output_type": "stream",
     "text": [
      "C:\\Users\\Ariel\\AppData\\Local\\Temp\\ipykernel_9864\\875725698.py:6: FutureWarning: \n",
      "\n",
      "Passing `palette` without assigning `hue` is deprecated and will be removed in v0.14.0. Assign the `x` variable to `hue` and set `legend=False` for the same effect.\n",
      "\n",
      "  sns.barplot(data = df_merged, x = col, y = 'Target', palette = 'viridis')\n"
     ]
    },
    {
     "data": {
      "image/png": "[encoded data removed]",
      "text/plain": [
       "<Figure size 900x400 with 1 Axes>"
      ]
     },
     "metadata": {},
     "output_type": "display_data"
    },
    {
     "name": "stderr",
     "output_type": "stream",
     "text": [
      "C:\\Users\\Ariel\\AppData\\Local\\Temp\\ipykernel_9864\\875725698.py:6: FutureWarning: \n",
      "\n",
      "Passing `palette` without assigning `hue` is deprecated and will be removed in v0.14.0. Assign the `x` variable to `hue` and set `legend=False` for the same effect.\n",
      "\n",
      "  sns.barplot(data = df_merged, x = col, y = 'Target', palette = 'viridis')\n"
     ]
    },
    {
     "data": {
      "image/png": "[encoded data removed]",
      "text/plain": [
       "<Figure size 900x400 with 1 Axes>"
      ]
     },
     "metadata": {},
     "output_type": "display_data"
    },
    {
     "name": "stderr",
     "output_type": "stream",
     "text": [
      "C:\\Users\\Ariel\\AppData\\Local\\Temp\\ipykernel_9864\\875725698.py:6: FutureWarning: \n",
      "\n",
      "Passing `palette` without assigning `hue` is deprecated and will be removed in v0.14.0. Assign the `x` variable to `hue` and set `legend=False` for the same effect.\n",
      "\n",
      "  sns.barplot(data = df_merged, x = col, y = 'Target', palette = 'viridis')\n"
     ]
    },
    {
     "data": {
      "image/png": "[encoded data removed]",
      "text/plain": [
       "<Figure size 900x400 with 1 Axes>"
      ]
     },
     "metadata": {},
     "output_type": "display_data"
    },
    {
     "name": "stderr",
     "output_type": "stream",
     "text": [
      "C:\\Users\\Ariel\\AppData\\Local\\Temp\\ipykernel_9864\\875725698.py:6: FutureWarning: \n",
      "\n",
      "Passing `palette` without assigning `hue` is deprecated and will be removed in v0.14.0. Assign the `x` variable to `hue` and set `legend=False` for the same effect.\n",
      "\n",
      "  sns.barplot(data = df_merged, x = col, y = 'Target', palette = 'viridis')\n"
     ]
    },
    {
     "data": {
      "image/png": "[encoded data removed]",
      "text/plain": [
       "<Figure size 900x400 with 1 Axes>"
      ]
     },
     "metadata": {},
     "output_type": "display_data"
    }
   ],
   "source": [
    "cat_columns = ['Type', 'PaymentMethod', 'gender', 'InternetService']\n",
    "\n",
    "#Vamos a crear nuestro bucle\n",
    "for col in cat_columns:\n",
    "    plt.figure(figsize = (9, 4))\n",
    "    sns.barplot(data = df_merged, x = col, y = 'Target', palette = 'viridis')\n",
    "    plt.title(f'Distribución de la variable {col}')\n",
    "    plt.show()"
   ]
  },
  {
   "cell_type": "markdown",
   "metadata": {},
   "source": [
    "Teniendo en cuenta los gráficos podemos tener en cuenta lo siguiente. \n",
    "\n",
    "- La función `barplot` toma en cuenta el promedio o la media de una variable numérica en función de una columna categórica, teniendo contexto de esto tenemos que: \n",
    "\n",
    "1. Respecto al tipo de pago ``Type``, tenemos que el tipo de pago que tiene menor taza de cancelación son los que tienen tipo de pago a dos años.\n",
    "2. En cuanto al método de pago (``PaymentMethod``) tenemos que quienes desisten del servicio son aquellos quienes pagan son cheque electrónico.\n",
    "3. En la columna ``gender`` no hay mucho que rescatar o comentar al respecto, no hay un insight significativo.\n",
    "4. La columna ``InternetService`` los que más cancelan el servicio son los que tienen el servicio de fibra óptica."
   ]
  },
  {
   "cell_type": "markdown",
   "metadata": {},
   "source": [
    "<div class=\"alert alert-block alert-success\">\n",
    "<b>Comentario del revisor (1ra Iteración)</b> <a class=“tocSkip”></a>\n",
    "\n",
    "Tu análisis de los gráficos demuestra una buena comprensión de cómo las variables categóricas influyen en la tasa de cancelación. \n",
    "\n",
    "</div>"
   ]
  },
  {
   "cell_type": "markdown",
   "metadata": {},
   "source": [
    "## 2.2.2 Eliminación de columnas para tener un dataframe más concreto"
   ]
  },
  {
   "cell_type": "markdown",
   "metadata": {},
   "source": [
    "Antes de empezar a comenzar con la delimitación de nuestro target y features para la partición (train_test_split) voy a eliminar algunas características que considero ya no son necesarias para el entrenamiento del modelo. \n",
    "\n",
    "Para esto, vamos a eliminar las características ``customerID`` y ``EndDate``, las razones de ambas características es porque la etiqueta de cada cliente no nos proporciona información relevante al modelo, estas son creadas de forma aleatoria para cada cliente pero no es representativo.\n",
    "\n",
    "Por otro lado, la columna ``EndDate`` previamente ya ha sido transformada a una nueva característica (``Target``) en nuestro dataframe original que nos muestra la información de quiénes SÍ y quiénes NO han dado de baja o han prescindido del servicio telefónico. "
   ]
  },
  {
   "cell_type": "code",
   "execution_count": 33,
   "metadata": {},
   "outputs": [],
   "source": [
    "#Eliminación de columnas propuestas\n",
    "df_merged = df_merged.drop(columns = ['customerID', 'EndDate'])\n",
    "#df_merged = df_merged.drop(columns = ['customerID', 'EndDate'], inplace = True)"
   ]
  },
  {
   "cell_type": "markdown",
   "metadata": {},
   "source": [
    "## 2.3 Conclusiones generales EDA "
   ]
  },
  {
   "cell_type": "markdown",
   "metadata": {},
   "source": [
    "Durante el preprocesamiento y el análisis exploratorio de datos, hemos hallado y propuesto lo siguiente:\n",
    "\n",
    "- Hemos revisado los tipos de datos respectivos de cada variable/columna para que tenga coherencia al momento de realizar el entrenamiento de los datos.\n",
    "- Hemos visto la correlación entren variables numéricas y categóricas respecto a nuestra columna ``Target``.\n",
    "- Se hizo notorio el caso del desbalance de clases en nuestra columna objetivo, lo cual nuestra propuesta para poder manejar el desbalance es realizar un sobremuestreo en la clase minoritoria para tener clases balanceadas.\n",
    "- Tenemos un par de columnas que tienen una escala mayor respecto a las demas columnas numéricas, por lo que vamos a normalizar estas columnas.\n",
    "- Eliminamos un par de columnas que no tienen algún tipo de impacto significativo, una de estas columnas fue transformada para solo contener una clase binaria y son esos clientes que desisten o no del servicio.\n",
    "\n",
    "Durante los siguientes pasos realizaremos lo siguiente:\n",
    "\n",
    "- Codificación de variables no numéricas.\n",
    "- Normalización de las columnas numéricas con diferente magnitud.\n",
    "- Sobremuestreo en la clase minoritaria para nuestra columna/característica objetivo."
   ]
  },
  {
   "cell_type": "markdown",
   "metadata": {},
   "source": [
    "<div class=\"alert alert-block alert-success\">\n",
    "<b>Comentario del revisor (1ra Iteración)</b> <a class=“tocSkip”></a>\n",
    "\n",
    "Ariel EDA refleja un enfoque metódico y bien estructurado para preparar los datos antes del entrenamiento del modelo. Has identificado y abordado problemas clave, como el desbalance de clases y la necesidad de normalización en columnas con escalas diferentes, lo cual es fundamental para garantizar la calidad de los resultados. Es destacable cómo has priorizado la eliminación de columnas irrelevantes y la transformación de otras para simplificar el análisis, lo que demuestra una comprensión clara de cómo optimizar el conjunto de datos. Además, tu propuesta de sobremuestreo para equilibrar las clases minoritarias es una estrategia sólida para mejorar el rendimiento del modelo, aunque para este tipo de análisis siempre es recomendable hacer un entrenamiento previo, con el fin de tener un punto de referencia pasra evaluar el efecto de la tecnica de balanceo.\n",
    "\n",
    "</div>"
   ]
  },
  {
   "cell_type": "markdown",
   "metadata": {},
   "source": [
    "## 3. Propuesta de modelos de Machine Learning para la tarea."
   ]
  },
  {
   "cell_type": "markdown",
   "metadata": {},
   "source": [
    "## 4. Entrenamiento y evaluación de Modelos"
   ]
  },
  {
   "cell_type": "markdown",
   "metadata": {},
   "source": [
    "En esta sección vamos a _condicionar_ nuestro dataset para que podamos trabajar de forma planeada para que podamos entrenarlos apropiadamente con los modelos. \n",
    "\n",
    "Previamente se había mencionado sobre realizar lo siguiente:\n",
    "\n",
    "- Codificación de variables no numéricas.\n",
    "- Normalización de variables numéricas seleccionadas.\n",
    "- Sobremuestreo de la clase minoritaria en nuestro ``target``. Aquí podemos aplicar un argumento que contienen algunos modelos de clasificación denominado ``class_weight`` para balancear sin realizar algún tipo de sobremuestreo. Ya veremos ese paso."
   ]
  },
  {
   "cell_type": "markdown",
   "metadata": {},
   "source": [
    "## 4.1 Asignación de las _features_ y _target_"
   ]
  },
  {
   "cell_type": "code",
   "execution_count": 34,
   "metadata": {},
   "outputs": [],
   "source": [
    "#Target y features\n",
    "features = df_merged.drop(columns = 'Target', axis = 1)\n",
    "target = df_merged['Target']"
   ]
  },
  {
   "cell_type": "code",
   "execution_count": 35,
   "metadata": {},
   "outputs": [],
   "source": [
    "#Codificación de variables categóricas en las características\n",
    "features_ohe = pd.get_dummies(features, drop_first = True)"
   ]
  },
  {
   "cell_type": "markdown",
   "metadata": {},
   "source": [
    "## 4.2 Partición del dataset en entrenamiento y prueba (_train, test_)"
   ]
  },
  {
   "cell_type": "code",
   "execution_count": 36,
   "metadata": {},
   "outputs": [],
   "source": [
    "#Partición de los datos\n",
    "features_train, features_test, target_train, target_test = train_test_split(features_ohe, target, test_size = 0.2, random_state = 12345)"
   ]
  },
  {
   "cell_type": "markdown",
   "metadata": {},
   "source": [
    "Escalamiento de atributos numéricos (normalización)"
   ]
  },
  {
   "cell_type": "code",
   "execution_count": 37,
   "metadata": {},
   "outputs": [
    {
     "data": {
      "text/plain": [
       "\"\\nvar_numeric = ['MonthlyCharges', 'TotalCharges']\\nnormal = MinMaxScaler().fit(features_train[var_numeric])\\nfeatures_train[var_numeric] = normal.transform(features_train[var_numeric])\\nfeatures_test[var_numeric] = normal.transform(features_test[var_numeric])'\\n\""
      ]
     },
     "execution_count": 37,
     "metadata": {},
     "output_type": "execute_result"
    }
   ],
   "source": [
    "'''\n",
    "var_numeric = ['MonthlyCharges', 'TotalCharges']\n",
    "normal = MinMaxScaler().fit(features_train[var_numeric])\n",
    "features_train[var_numeric] = normal.transform(features_train[var_numeric])\n",
    "features_test[var_numeric] = normal.transform(features_test[var_numeric])'\n",
    "'''"
   ]
  },
  {
   "cell_type": "code",
   "execution_count": 38,
   "metadata": {},
   "outputs": [],
   "source": [
    "var_numeric = ['MonthlyCharges', 'TotalCharges']\n",
    "scaler = StandardScaler().fit(features_train[var_numeric])\n",
    "features_train[var_numeric] = scaler.transform(features_train[var_numeric])\n",
    "features_test[var_numeric] = scaler.transform(features_test[var_numeric])"
   ]
  },
  {
   "cell_type": "markdown",
   "metadata": {},
   "source": [
    "<div class=\"alert alert-block alert-success\">\n",
    "<b>Comentario del revisor (1ra Iteración)</b> <a class=“tocSkip”></a>\n",
    "\n",
    "Excelente trabajo codificando las variables categóricas y escalando los valores numéricos. Esto permite tener un modelo más robusto y con mejor rendimiento, \n",
    "\n",
    "</div>"
   ]
  },
  {
   "cell_type": "markdown",
   "metadata": {},
   "source": [
    "Balanceo de clases en la variable _target_ (sobremuestreo)"
   ]
  },
  {
   "cell_type": "code",
   "execution_count": 39,
   "metadata": {},
   "outputs": [],
   "source": [
    "#Para este caso vamos a crear una función que nos permita realizar el sobremuestreo\n",
    "def upsample(features, target, repeat):\n",
    "    features_zeros = features[target == 0]\n",
    "    features_ones = features[target == 1]\n",
    "    target_zeros = target[target == 0]\n",
    "    target_ones = target[target == 1]\n",
    "\n",
    "    features_upsampled = pd.concat([features_zeros] + [features_ones] * repeat)\n",
    "    target_upsampled = pd.concat([target_zeros] + [target_ones] * repeat)\n",
    "\n",
    "    return features_upsampled, target_upsampled\n"
   ]
  },
  {
   "cell_type": "code",
   "execution_count": 40,
   "metadata": {},
   "outputs": [],
   "source": [
    "#Aumentemos la cantidad de datos de la clase minoritaria\n",
    "features_train_upsampled, target_train_upsampled = upsample(features_train, target_train, 2)"
   ]
  },
  {
   "cell_type": "code",
   "execution_count": 41,
   "metadata": {},
   "outputs": [
    {
     "data": {
      "text/plain": [
       "((7129, 21), (7129,))"
      ]
     },
     "execution_count": 41,
     "metadata": {},
     "output_type": "execute_result"
    }
   ],
   "source": [
    "#Veamos el tamaño de nuestros datos sobremuestreados\n",
    "features_train_upsampled.shape, target_train_upsampled.shape"
   ]
  },
  {
   "cell_type": "markdown",
   "metadata": {},
   "source": [
    "#Vamos a volver a dividir nuestros datos en entrenamiento y prueba\n",
    "features_train_ohe, features_test_ohe, target_train_ohe, target_test_ohe = train_test_split(features_ohe, target, test_size=0.1, random_state = 12345)\n"
   ]
  },
  {
   "cell_type": "markdown",
   "metadata": {},
   "source": [
    "<div class=\"alert alert-block alert-success\">\n",
    "<b>Comentario del revisor (1ra Iteración)</b> <a class=“tocSkip”></a>\n",
    "\n",
    "Buen trabajo balanceando los datos, esto evitará sesgos en la clasificación realizada por los modelos\n",
    "\n",
    "\n",
    "</div>"
   ]
  },
  {
   "cell_type": "markdown",
   "metadata": {},
   "source": [
    "## 4.3 Entrenamiento de los Modelos de Clasificación propuestos"
   ]
  },
  {
   "cell_type": "markdown",
   "metadata": {},
   "source": [
    "### Creación de una función para evaluar modelos"
   ]
  },
  {
   "cell_type": "markdown",
   "metadata": {},
   "source": [
    "Vamos a crear una función que nos permita simplemente llamar a nuestro modelo con las métricas de interés en el proyecto. Como es el caso de ``accuracy`` y ``ROC - AUC``."
   ]
  },
  {
   "cell_type": "code",
   "execution_count": 42,
   "metadata": {},
   "outputs": [],
   "source": [
    "#Definición de la función\n",
    "def model_metrics (model, features_train_upsampled, target_train_upsampled, features_test, target_test):\n",
    "    \n",
    "    model.fit(features_train_upsampled, target_train_upsampled)\n",
    "    predictions = model.predict(features_test)\n",
    "    probabilities = model.predict_proba(features_test)\n",
    "    probabilities_one = probabilities[:, 1]\n",
    "    \n",
    "    #Exactitud del modelo\n",
    "    accu_model = accuracy_score(target_test, predictions)\n",
    "    print('Exactitud del modelo:', round(accu_model,2))\n",
    "    print()\n",
    "    \n",
    "    #Graficar la curva ROC\n",
    "    fpr, tpr, thresholds = roc_curve(target_test, probabilities_one)\n",
    "    #ROC - AUC Modelo\n",
    "    roc_auc_test = roc_auc_score(target_test, probabilities_one) \n",
    "    print('AUC-ROC Score:', round(roc_auc_test, 2))   \n",
    "    plt.figure()\n",
    "    plt.plot(fpr, tpr, label = 'Set de prueba')\n",
    "    plt.plot([0, 1], [0, 1], linestyle='--', color='red')\n",
    "    plt.xlim([0.0, 1.0])\n",
    "    plt.ylim([0.0, 1.0])\n",
    "    plt.xlabel('Tasa de falsos positivos')\n",
    "    plt.ylabel('Tasa de verdaderos positivos')\n",
    "    plt.title('Curva ROC')\n",
    "    plt.legend(loc = 'lower right')\n",
    "    plt.show()\n",
    "    print()\n",
    "  \n",
    "    #print(classification_report(target_test, predictions))\n",
    "\n",
    "    return accu_model, roc_auc_test\n"
   ]
  },
  {
   "cell_type": "markdown",
   "metadata": {},
   "source": [
    "<div class=\"alert alert-block alert-success\">\n",
    "<b>Comentario del revisor (1ra Iteración)</b> <a class=“tocSkip”></a>\n",
    "\n",
    "Ariel es una excelente idea usar funciones para evitar repetir bloques de código, esto hace que tu trabajo esté mejor estructurado\n",
    "\n",
    "</div>"
   ]
  },
  {
   "cell_type": "markdown",
   "metadata": {},
   "source": [
    "### 4.4 Modelo de Regresión Logística"
   ]
  },
  {
   "cell_type": "code",
   "execution_count": 43,
   "metadata": {},
   "outputs": [
    {
     "name": "stdout",
     "output_type": "stream",
     "text": [
      "Exactitud del modelo: 0.77\n",
      "\n",
      "AUC-ROC Score: 0.84\n"
     ]
    },
    {
     "data": {
      "image/png": "[encoded data removed]",
      "text/plain": [
       "<Figure size 640x480 with 1 Axes>"
      ]
     },
     "metadata": {},
     "output_type": "display_data"
    },
    {
     "name": "stdout",
     "output_type": "stream",
     "text": [
      "\n"
     ]
    }
   ],
   "source": [
    "#Modelo de Regresión Logística\n",
    "model_logistic = LogisticRegression(solver = 'newton-cholesky', random_state = 12345)\n",
    "accu_logistic, roc_auc_logistic = model_metrics(model_logistic, features_train_upsampled, target_train_upsampled, features_test, target_test)\n"
   ]
  },
  {
   "cell_type": "markdown",
   "metadata": {},
   "source": [
    "Para ser nuestro primero modelo de clasificación, ambas métricas propuestas tienen buenos resultados."
   ]
  },
  {
   "cell_type": "markdown",
   "metadata": {},
   "source": [
    "### 4.5 Modelo de Árbol de Decisión de Clasificación."
   ]
  },
  {
   "cell_type": "markdown",
   "metadata": {},
   "source": [
    "Para los posteriores modelos estaremos haciendo uso de la herramientas ``GridSearch`` para poder hallar los mejores hiperparámetros a evaluar en los modelos. Y posteriormente aplicar la función para obtener las métricas propuestas."
   ]
  },
  {
   "cell_type": "code",
   "execution_count": 44,
   "metadata": {},
   "outputs": [
    {
     "name": "stdout",
     "output_type": "stream",
     "text": [
      "Fitting 5 folds for each of 3 candidates, totalling 15 fits\n",
      "Mejores hiperparámetros: {'max_depth': 30}\n"
     ]
    }
   ],
   "source": [
    "#Creación de malla (diccionario) para buscar los mejores hiperparámetros\n",
    "param_grid_dtc = {'max_depth': [10, 20, 30]}\n",
    "\n",
    "#Modelo de Árbol de Decisión\n",
    "model_dtc = DecisionTreeClassifier(random_state = 12345)\n",
    "grid_search_dtc = GridSearchCV(model_dtc, param_grid_dtc, scoring = 'roc_auc', verbose = True)\n",
    "grid_search_dtc.fit(features_train_upsampled, target_train_upsampled)\n",
    "best_params_dtc = grid_search_dtc.best_params_\n",
    "best_score_dtc = grid_search_dtc.best_score_\n",
    "print('Mejores hiperparámetros:', best_params_dtc)"
   ]
  },
  {
   "cell_type": "code",
   "execution_count": 45,
   "metadata": {},
   "outputs": [
    {
     "name": "stdout",
     "output_type": "stream",
     "text": [
      "Exactitud del modelo: 0.76\n",
      "\n",
      "AUC-ROC Score: 0.83\n"
     ]
    },
    {
     "data": {
      "image/png": "[encoded data removed]",
      "text/plain": [
       "<Figure size 640x480 with 1 Axes>"
      ]
     },
     "metadata": {},
     "output_type": "display_data"
    },
    {
     "name": "stdout",
     "output_type": "stream",
     "text": [
      "\n"
     ]
    }
   ],
   "source": [
    "#Aplicar los mejores hiperparametros al modelo\n",
    "model_dtc_new = DecisionTreeClassifier(max_depth = 5, random_state = 12345)\n",
    "accu_dtc, roc_auc_dtc = model_metrics(model_dtc_new, features_train_upsampled, target_train_upsampled, features_test, target_test)"
   ]
  },
  {
   "cell_type": "markdown",
   "metadata": {},
   "source": [
    "Si bien es cierto que obtuvimos buenas métricas para este segundo modelo, lo interesante de esto es que manipulamos la profindidad (``max_depth``), ya que inicialmente ``GridSearch`` nos dió un output de 20 para este hiperparámetro, sin embargo, las métricas no eran las mejores. Después de algunos intentos, lo que hicimos fue disminuir este valor a 5, teniendo así los valores de las métricas previamente obtenidas. "
   ]
  },
  {
   "cell_type": "markdown",
   "metadata": {},
   "source": [
    "### 4.6 Modelo de Bosque Aleatorio de Clasificación"
   ]
  },
  {
   "cell_type": "markdown",
   "metadata": {},
   "source": [
    "Misma metodología para nuestro modelo de RandomForest."
   ]
  },
  {
   "cell_type": "code",
   "execution_count": 46,
   "metadata": {},
   "outputs": [
    {
     "name": "stdout",
     "output_type": "stream",
     "text": [
      "Fitting 5 folds for each of 18 candidates, totalling 90 fits\n",
      "Mejores hiperparámetros: {'bootstrap': False, 'max_depth': 30, 'n_estimators': 150}\n"
     ]
    }
   ],
   "source": [
    "#Vamos a crear la malla de hiperparámetros\n",
    "param_grid_rf = {'n_estimators': [50, 100, 150], 'max_depth': [10, 20, 30], 'bootstrap': [True, False]}\n",
    "#Modelo de Bosque Aleatorio\n",
    "model_rf = RandomForestClassifier(random_state = 12345)\n",
    "grid_search_rf = GridSearchCV(model_rf, param_grid_rf, scoring = 'roc_auc', verbose = True)\n",
    "grid_search_rf.fit(features_train_upsampled, target_train_upsampled)\n",
    "best_params_rf = grid_search_rf.best_params_\n",
    "best_score_rf = grid_search_rf.best_score_\n",
    "print('Mejores hiperparámetros:', best_params_rf)"
   ]
  },
  {
   "cell_type": "code",
   "execution_count": 47,
   "metadata": {},
   "outputs": [
    {
     "name": "stdout",
     "output_type": "stream",
     "text": [
      "Exactitud del modelo: 0.8\n",
      "\n",
      "AUC-ROC Score: 0.85\n"
     ]
    },
    {
     "data": {
      "image/png": "[encoded data removed]",
      "text/plain": [
       "<Figure size 640x480 with 1 Axes>"
      ]
     },
     "metadata": {},
     "output_type": "display_data"
    },
    {
     "name": "stdout",
     "output_type": "stream",
     "text": [
      "\n"
     ]
    }
   ],
   "source": [
    "#Aplicación de hiperparámetros al modelo\n",
    "model_rf_new = RandomForestClassifier(n_estimators = 50, max_depth = 5, random_state = 12345)\n",
    "accu_rf, roc_auc_rf = model_metrics(model_rf_new, features_train_upsampled, target_train_upsampled, features_test, target_test)"
   ]
  },
  {
   "cell_type": "markdown",
   "metadata": {},
   "source": [
    "El modelo de Bosque Aleatorio de Clasificación ha mostrado, de momento, tener las mejores métricas en relación a la exactitud y al score ROC - AUC. Veamos si la potenciación categórica puede ser mejor respecto a los previos modelos a probar. "
   ]
  },
  {
   "cell_type": "markdown",
   "metadata": {},
   "source": [
    "### 4.7 Potenciación Categórica (CatBoost)"
   ]
  },
  {
   "cell_type": "markdown",
   "metadata": {},
   "source": [
    "Para este caso tenemos que delimitar nuestras varibles categóricas y posteriormente entrenar nuestro modelo para poder ver cómo responde respecto a las métricas."
   ]
  },
  {
   "cell_type": "code",
   "execution_count": 48,
   "metadata": {},
   "outputs": [
    {
     "name": "stdout",
     "output_type": "stream",
     "text": [
      "Fitting 5 folds for each of 27 candidates, totalling 135 fits\n",
      "Mejores hiperparámetros: {'depth': 8, 'iterations': 150, 'learning_rate': 1}\n"
     ]
    }
   ],
   "source": [
    "#Creación de la malla de hiperparámetros para CatBoost\n",
    "param_grid_cat = {'iterations': [50, 100, 150], 'depth': [5, 6, 8], 'learning_rate': [0.01, 0.1, 1]}\n",
    "#Modelo de CatBoost\n",
    "model_cat = CatBoostClassifier(random_state = 12345, verbose = False)\n",
    "grid_search_cat = GridSearchCV(model_cat, param_grid_cat, scoring = 'roc_auc', verbose = True)\n",
    "grid_search_cat.fit(features_train_upsampled, target_train_upsampled)\n",
    "best_params_cat = grid_search_cat.best_params_\n",
    "best_score_cat = grid_search_cat.best_score_\n",
    "print('Mejores hiperparámetros:', best_params_cat)"
   ]
  },
  {
   "cell_type": "code",
   "execution_count": 49,
   "metadata": {},
   "outputs": [
    {
     "name": "stdout",
     "output_type": "stream",
     "text": [
      "Exactitud del modelo: 0.79\n",
      "\n",
      "AUC-ROC Score: 0.85\n"
     ]
    },
    {
     "data": {
      "image/png": "[encoded data removed]",
      "text/plain": [
       "<Figure size 640x480 with 1 Axes>"
      ]
     },
     "metadata": {},
     "output_type": "display_data"
    },
    {
     "name": "stdout",
     "output_type": "stream",
     "text": [
      "\n"
     ]
    }
   ],
   "source": [
    "#Aplicación de los hiperparámetros a CatBoost\n",
    "model_cat_new = CatBoostClassifier(iterations = 100, depth = 5, learning_rate = 0.01, random_state = 12345, verbose = False)\n",
    "accu_cat, roc_auc_cat = model_metrics(model_cat_new, features_train_upsampled, target_train_upsampled, features_test, target_test)"
   ]
  },
  {
   "cell_type": "markdown",
   "metadata": {},
   "source": [
    "Para este caso de ``CatBoost`` podemos apreciar que en el caso de la exactitud no hay una mejoría, de hecho, tiene un retroceso en el valor, sin embargo, no podemos decir lo mismo para el score ``ROC - AUC``, para este caso el valor entre el Random Forest de clasificación es similar."
   ]
  },
  {
   "cell_type": "markdown",
   "metadata": {},
   "source": [
    "## Conclusiones "
   ]
  },
  {
   "cell_type": "markdown",
   "metadata": {},
   "source": [
    "Una vez realizado todos los movimientos en cuanto a entrenamiento se refiere y de acuerdo a la evaluación de los modelos podemos decir que el mejor es el modelo ``RandomForestClassifier``.\n",
    "\n",
    "Si bien es cierto que ambos tienen los mejores scores de ``ROC - AUC``, también he tomado en cuenta el tiempo computacional que requiere el entrenamiento entre el Bosque Aleatorio y CatBoost de CLasificación, y además, la exactitud (``accuracy``).\n",
    "\n",
    "Random Forest tiene las principales métricas a tomar en cuenta, respectivamente tenemos los siguientes valores:\n",
    "\n",
    "- *Exactitud (``accuracy``) : 0.80*\n",
    "\n",
    "- *Score ROC - AUC : 0.85*\n",
    "\n",
    "- *Tiempo computacional menor respecto a CatBoost.*\n",
    "\n",
    "\n",
    "Si bien es cierto que RandomForest tiene las mejores métricas, pondría en segundo lugar a la Regresíon Logística, si tomamos en cuenta completamente el tiempo computacional, definitivamente es el mejor. \n",
    "Es importante tomar en cuenta que muchas veces en Modelos de Machine Learning _menos es más_, es decir, a veces los modelos de ML más complejos no necesariamente nos entregarán las mejores métricas en tareas tanto de Regresión o de Clasificación.\n",
    "\n",
    "Otro punto a tomar en cuenta es que, curiosamente, nuestras métricas no cambian cuando realizo una estandarización normalizada (``MinMaxScaler``) a cuando utilizo ``StandardScaler``. Una de las principales justificaciones de utilizar la normalización es porque, generalmente, nuestras columnas/atributos numéricos no tienen una distribución normal, por lo anterior, se normaliza.\n",
    "\n",
    "Sin embargo, también tomé en cuenta que mis variables numéricas tenían diferente magnitud numérica, razón de utilizar la estandarización."
   ]
  },
  {
   "cell_type": "markdown",
   "metadata": {},
   "source": [
    "## Resumen de modelos "
   ]
  },
  {
   "cell_type": "markdown",
   "metadata": {},
   "source": [
    "En el siguiente apartado vamos a resumir en un dataframe los valores de las métricas obtenidos (``accuracy``, ``ROC - AUC``) para cada uno de los modelos."
   ]
  },
  {
   "cell_type": "code",
   "execution_count": 50,
   "metadata": {
    "scrolled": true
   },
   "outputs": [
    {
     "data": {
      "application/vnd.microsoft.datawrangler.viewer.v0+json": {
       "columns": [
        {
         "name": "index",
         "rawType": "int64",
         "type": "integer"
        },
        {
         "name": "Modelo",
         "rawType": "object",
         "type": "string"
        },
        {
         "name": "Exactitud - Conjunto de Prueba",
         "rawType": "float64",
         "type": "float"
        },
        {
         "name": "AUC-ROC - Conjunto de Prueba",
         "rawType": "float64",
         "type": "float"
        }
       ],
       "conversionMethod": "pd.DataFrame",
       "ref": "63709ad0-2628-45b1-9463-2d832d5e5f70",
       "rows": [
        [
         "0",
         "Regresión Logística",
         "0.77",
         "0.84"
        ],
        [
         "1",
         "Árbol de Decisión",
         "0.76",
         "0.83"
        ],
        [
         "2",
         "Bosque Aleatorio",
         "0.8",
         "0.85"
        ],
        [
         "3",
         "CatBoost - Potenciación Categórica",
         "0.79",
         "0.85"
        ]
       ],
       "shape": {
        "columns": 3,
        "rows": 4
       }
      },
      "text/html": [
       "<div>\n",
       "<style scoped>\n",
       "    .dataframe tbody tr th:only-of-type {\n",
       "        vertical-align: middle;\n",
       "    }\n",
       "\n",
       "    .dataframe tbody tr th {\n",
       "        vertical-align: top;\n",
       "    }\n",
       "\n",
       "    .dataframe thead th {\n",
       "        text-align: right;\n",
       "    }\n",
       "</style>\n",
       "<table border=\"1\" class=\"dataframe\">\n",
       "  <thead>\n",
       "    <tr style=\"text-align: right;\">\n",
       "      <th></th>\n",
       "      <th>Modelo</th>\n",
       "      <th>Exactitud - Conjunto de Prueba</th>\n",
       "      <th>AUC-ROC - Conjunto de Prueba</th>\n",
       "    </tr>\n",
       "  </thead>\n",
       "  <tbody>\n",
       "    <tr>\n",
       "      <th>0</th>\n",
       "      <td>Regresión Logística</td>\n",
       "      <td>0.77</td>\n",
       "      <td>0.84</td>\n",
       "    </tr>\n",
       "    <tr>\n",
       "      <th>1</th>\n",
       "      <td>Árbol de Decisión</td>\n",
       "      <td>0.76</td>\n",
       "      <td>0.83</td>\n",
       "    </tr>\n",
       "    <tr>\n",
       "      <th>2</th>\n",
       "      <td>Bosque Aleatorio</td>\n",
       "      <td>0.80</td>\n",
       "      <td>0.85</td>\n",
       "    </tr>\n",
       "    <tr>\n",
       "      <th>3</th>\n",
       "      <td>CatBoost - Potenciación Categórica</td>\n",
       "      <td>0.79</td>\n",
       "      <td>0.85</td>\n",
       "    </tr>\n",
       "  </tbody>\n",
       "</table>\n",
       "</div>"
      ],
      "text/plain": [
       "                               Modelo  Exactitud - Conjunto de Prueba  \\\n",
       "0                 Regresión Logística                            0.77   \n",
       "1                   Árbol de Decisión                            0.76   \n",
       "2                    Bosque Aleatorio                            0.80   \n",
       "3  CatBoost - Potenciación Categórica                            0.79   \n",
       "\n",
       "   AUC-ROC - Conjunto de Prueba  \n",
       "0                          0.84  \n",
       "1                          0.83  \n",
       "2                          0.85  \n",
       "3                          0.85  "
      ]
     },
     "execution_count": 50,
     "metadata": {},
     "output_type": "execute_result"
    }
   ],
   "source": [
    "#Resumen\n",
    "df_resume = pd.DataFrame({'Modelo': ['Regresión Logística', 'Árbol de Decisión', 'Bosque Aleatorio', 'CatBoost - Potenciación Categórica'],\n",
    "                          'Exactitud - Conjunto de Prueba': [accu_logistic, accu_dtc, accu_rf, accu_cat],\n",
    "                          'AUC-ROC - Conjunto de Prueba': [roc_auc_logistic, roc_auc_dtc, roc_auc_rf, roc_auc_cat]})\n",
    "\n",
    "#Vamos a redondedear los valores\n",
    "for col in df_resume.columns[1:]:\n",
    "    df_resume[col] = round(df_resume[col], 2)\n",
    "\n",
    "df_resume"
   ]
  },
  {
   "cell_type": "markdown",
   "metadata": {},
   "source": [
    "<div class=\"alert alert-block alert-success\">\n",
    "<b>Comentario del revisor (1ra Iteración)</b> <a class=“tocSkip”></a>\n",
    "\n",
    "Has implementado correctamente los modelos de clasificación. La evaluación de estos modelos demuestra un enfoque equilibrado al considerar no solo las métricas de rendimiento, como la exactitud y el ROC-AUC, sino también el tiempo computacional, lo cual es crucial en aplicaciones prácticas. Has identificado correctamente que RandomForestClassifier ofrece el mejor equilibrio entre precisión y eficiencia, destacando su superioridad sobre CatBoost en términos de tiempo de entrenamiento. Además, tu observación sobre la Regresión Logística como una alternativa viable debido a su bajo costo computacional refleja una comprensión profunda de la importancia de la simplicidad en los modelos de Machine Learning. Es interesante cómo señalas que la normalización no impactó significativamente en las métricas, lo que sugiere que la magnitud de las variables no fue un factor determinante en este caso, aunque valdría la pena comparar con los datos en bruto para ver si realmente hay un efecto en nuestro conjunto de datos. Para futuros trabajos, podrías explorar si otras técnicas de preprocesamiento, como la reducción de dimensionalidad o la selección de características, podrían mejorar aún más el rendimiento del modelo.\n",
    "\n",
    "</div>"
   ]
  },
  {
   "cell_type": "markdown",
   "metadata": {},
   "source": [
    "# **Informe de Solución**"
   ]
  },
  {
   "cell_type": "markdown",
   "metadata": {},
   "source": [
    "A través del presente informe vamos a contestar una serie de preguntas que van fundamentadas con el código de solución previamente entregado y revisado.\n",
    "\n",
    "Estas preguntas, considero yo, forman parte intrínseca de cómo podemos mejorar algunas habilidades de comunicación de resultados, y además, de cómo podemos mejorar en cuanto algunos insights importantes a tomar en cuenta.\n",
    "\n",
    "Responderé las preguntas tal cual se han propuesto para responder."
   ]
  },
  {
   "cell_type": "markdown",
   "metadata": {},
   "source": [
    "## ¿Qué pasos del plan se realizaron y qué pasos se omitieron (explica por qué)?"
   ]
  },
  {
   "cell_type": "markdown",
   "metadata": {},
   "source": [
    "Realmente todos los pasos fueron cubiertos durante este proyecto, desde el punto de vista de experimentación. Es decir, desde el preprocesamiento de datos, ver puntos claves, cómo manejar o cómo lidiar con algunas columnas que pudieron suponer algún tipo de _ruido_ durante el análisis o cómo estás podrían influir en el desarrollo o ejecución del entrenamiento del modelo propuesto.\n",
    "\n",
    "\n",
    "Durante el EDA se realizarón los pasos correspondientes al enriquecimiento de los datos en función de los dataframes que teniamos presentados. Vimos la distribución de las variables categóricas y numéricas, además de algunos supuestos que podrían presentarse o que podrían afectar en el entrenamiento del modelo. Para lo anterior mencionado, tal y como comentamos en su momento, lidiamos con esto mediante _normalización_ o _estandarización_. Después de todo, análizamos el comportamiento de ambos métodos durante el entrenamiento y la ejecución de las métricas. \n",
    "\n",
    "Posteriormente, finalizado el EDA, pasamos a la parte o sección que implica el hecho de poder particionar y definir nuestro dataset. Esto involucra totalmente el hecho de definir nuestras _features_ y _target_ además de particionar nuestro dataframe en _train_ y _test_. Esta sección es importante ya que aquí aplicamos la mayoría de métodos que son de relevancia en nuestras características categóricas y numéricas, es importante ya que aplicamos la normalización, estandarización y codificación (One - Hot Encoding). \n",
    "\n",
    "El resto de movimientos se fácilita por la razón de haber creado una función en donde delimitamos los sets de entrenamiento y prueba para nuestras _features_ y _target_.\n",
    "\n",
    "Hablando en términos de qué fue posiblemente aquello que se omitió podría mencionar lo la reducción dimensional de características, es decir, ¿qué variables realmente eran las importantes durante el entrenamiento del modelo? Este es un paso que me faltó probar, no lo ejecuté principalmente porque las variables o características que estaban involucradas mostraban cierta correlación con mi target, además de que si eliminaba estas variables que no tenian cierta correlación, ¿cuántas características tendría?"
   ]
  },
  {
   "cell_type": "markdown",
   "metadata": {},
   "source": [
    "## ¿Qué dificultades encontraste y cómo lograste resolverlas?"
   ]
  },
  {
   "cell_type": "markdown",
   "metadata": {},
   "source": [
    "Todo parece trivial cuando estamos realizando en preprocesamiento de datos y el EDA, pero tuve algunos pequeños contratiempos al momento del entrenamiento.\n",
    "\n",
    "Afortunadamente pude darme cuenta que se trataba de un desbalance de clases, pero me preguntaba constantemente sobre la relevancia de las fechas de inicio en el dataset original. \n",
    "\n",
    "Por un momento olvidé que había un método en el que podiamos asignar las fechas como índice y tratarlo como una serie temporal, claro, tomando unicamente en cuenta o como ejemplo en qué momento los clientes tenían más inscripciones a estos servicios. \n",
    "\n",
    "Otro pequeña dificultad que pude presentar fue cómo presentar mi columna _target_ de forma alterna. \n",
    "Claro, teniamos nuestras columna/variable de interés, sin embargo, tenía que pasar por un procesamiento o de transformación para que fuese más sencillo de poder manipular esta varible objetivo. Finalmente pude realizar esa conversión binaria de quiénes cancelaban y quiénes no. \n",
    "\n",
    "\n",
    "Otro partícular detalle que tuve investigar fue lo de evitar el famoso _data leakeage_ o también conocido como fuga de datos. Por lo que para evitar este tipo de fenomenos o errores durante el entrenamiento lo mejor es definir primero nuestros _features_ y _target_ además de aplicar el método *train_test_split* para que posteriormente pudieramos aplicar la codificación, estandarización y sobremuestreo, y así, no tener un sobreentrenamiento o tener fuga en la partición del dataset.\n",
    "\n",
    "Finalmente, hallar los mejores hiperparámetros de los modelos. Si bien es cierto que ocupamos _GridSearchCV_ finalmente no ocupamos los hiperparámetros propuestos por GridSearchCV. Realmente hicimos un ejercicio de iteración sobre los mejores valores propuestos, y así, tener los mejores valores de _accuracy_ y _ROC - AUC Score_."
   ]
  },
  {
   "cell_type": "markdown",
   "metadata": {},
   "source": [
    "## ¿Cuáles fueron algunos de los pasos clave para resolver la tarea?"
   ]
  },
  {
   "cell_type": "markdown",
   "metadata": {},
   "source": [
    "Definitivamente el sobremuestreo y darnos cuenta que había un desbalance de clases. \n",
    "\n",
    "Yo, personalmente considero que es uno de los principales pasos clave a resolver, ya que no nos dabamos cuenta de que se trataba de un desbalance de clase y realizabamos todo de manera original tendriamos un sobreajuste o sobreentrenamiento, lo cual como resultado iba a influir de manera negativa en nuestras métricas de interés.\n",
    "\n",
    "¿De qué manera?\n",
    "\n",
    "Principalmente porque nuestros valores de métricas hubieran salido \"muy buenos\", lo cual hubiera sido muy raro a la primera iteración o ejecución de modelos, entonces esa es la clave principal. \n",
    "\n",
    "Quizás los pasos previos al entrenamiento como la normalización, codificación sean también pasos clave, y claro, la claridad de pasos o la selección de métricas a elegir en el caso de GridSearchCV."
   ]
  },
  {
   "cell_type": "markdown",
   "metadata": {},
   "source": [
    "## ¿Cuál es tu modelo final y qué nivel de calidad tiene?"
   ]
  },
  {
   "cell_type": "markdown",
   "metadata": {},
   "source": [
    "Es cierto que hemos entrenado 3 modelos de clasificación y también hemos aplicado el potenciador de clasificación (CatBoost). Sin embargo, es cierto que _RandomForest_ tiene las mejores métricas, pondría en segundo lugar a la _Regresíon Logística_, si tomamos en cuenta completamente el tiempo computacional, definitivamente es el mejor. \n",
    "\n",
    "Métricas _Regresión Logística_:\n",
    "\n",
    "- Exactitud (_accuracy_) ---> $0.77$\n",
    "- Score ROC - AUC ---> $0.84$\n",
    "\n",
    "Métricas _Random Forest Classifier_:\n",
    "\n",
    "- Exactitud (_accuracy_) ---> $0.80$\n",
    "- Score ROC - AUC ---> $0.85$\n",
    "\n",
    "Tal y como había mencionado previamente, debemos tomar en cuenta que muchas veces en Modelos de Machine Learning _menos es más_, es decir, a veces los modelos de ML más complejos no necesariamente nos entregarán las mejores métricas en tareas tanto de Regresión o de Clasificación.\n",
    "\n",
    "Sin embargo, si nos enfocamos en un nivel de cálidad en el contexto de métricas, definitivamente nuestro mejor módelo será _Random Forest Classifier_."
   ]
  }
 ],
 "metadata": {
  "ExecuteTimeLog": [
   {
    "duration": 9,
    "start_time": "2025-03-12T19:52:19.634Z"
   },
   {
    "duration": 4,
    "start_time": "2025-03-12T20:02:27.652Z"
   },
   {
    "duration": 4,
    "start_time": "2025-03-12T20:08:20.982Z"
   }
  ],
  "kernelspec": {
   "display_name": "Python 3 (ipykernel)",
   "language": "python",
   "name": "python3"
  },
  "language_info": {
   "codemirror_mode": {
    "name": "ipython",
    "version": 3
   },
   "file_extension": ".py",
   "mimetype": "text/x-python",
   "name": "python",
   "nbconvert_exporter": "python",
   "pygments_lexer": "ipython3",
   "version": "3.9.19"
  },
  "toc": {
   "base_numbering": 1,
   "nav_menu": {},
   "number_sections": true,
   "sideBar": true,
   "skip_h1_title": true,
   "title_cell": "Table of Contents",
   "title_sidebar": "Contents",
   "toc_cell": false,
   "toc_position": {},
   "toc_section_display": true,
   "toc_window_display": false
  }
 },
 "nbformat": 4,
 "nbformat_minor": 2
}
